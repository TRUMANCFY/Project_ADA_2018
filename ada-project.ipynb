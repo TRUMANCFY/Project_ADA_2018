{
 "cells": [
  {
   "cell_type": "markdown",
   "metadata": {},
   "source": [
    "## CS 401 Applied Data Analysis, 2018 autumn\n",
    "## Final Project: Exploration on Media polarity in the News\n",
    "##### Group Members: Ruibin Huang, Liangwei Chen, Fengyu Cai"
   ]
  },
  {
   "cell_type": "markdown",
   "metadata": {},
   "source": [
    "### Objective:\n",
    "In this project, we would like to dig up the potential media polarity about the news on the websites. Through the year, we hope to find out the bias for some media as to some specific topics."
   ]
  },
  {
   "cell_type": "markdown",
   "metadata": {},
   "source": [
    "### Main Step\n",
    "- Label the news with keywords or topic\n",
    "    - TF-IDF\n",
    "- Select specific news and medias for analysis in the similar time and topic\n",
    "    - NLTK sentiment analysis package\n",
    "- Further analyze based on the chronological and geometrical features of the medias\n",
    "    - map or plot"
   ]
  },
  {
   "cell_type": "markdown",
   "metadata": {},
   "source": [
    "Technologies applied (and will be applied): spark, Machine Learning, NLTK, Web Crawling"
   ]
  },
  {
   "cell_type": "markdown",
   "metadata": {},
   "source": [
    "### About Datasets:\n",
    "1. News Source: containing News IDs, Publisher, Publish Date, Publish Region, Publish Organization, News URL and News Title\n",
    "2. News Excerpt: containing excerpts of website HTML, responding to the NEWs ID.\n",
    "3. News parse and stemming: containing the canonical steming form of the news, which is convenient for manipulation and search."
   ]
  },
  {
   "cell_type": "markdown",
   "metadata": {},
   "source": [
    "### Milestone Summary:\n",
    "In this milestone, we will do the analysis based on a limited data set: news on the website mainly during August, September, and October in 2016 in the United States.\n",
    "\n",
    "And the whole process has been divided to four parts:\n",
    "1. Get and clean the data\n",
    "2. Topic Selection: from News parse and stemming file, we applied TF-IDF to choose the linguitics keyword as document feature.\n",
    "3. Web Crawling: attempted to get the full text from the original websites.\n",
    "3. Sentimental Analysis: analyze the polarity of the media on the selected topic in one month. Then, we further extended the range to three months in order to illustrate the time variance of media polarity."
   ]
  },
  {
   "cell_type": "code",
   "execution_count": 414,
   "metadata": {
    "collapsed": false
   },
   "outputs": [],
   "source": [
    "# Import Module\n",
    "import sys\n",
    "import os\n",
    "import re\n",
    "import gc\n",
    "import string\n",
    "import pickle\n",
    "import pandas as pd\n",
    "import numpy as np\n",
    "import matplotlib.pyplot as plt\n",
    "from collections import Counter\n",
    "from collections import defaultdict\n",
    "\n",
    "# For the Topic-selection\n",
    "from sklearn.feature_extraction.text import TfidfTransformer\n",
    "from sklearn.feature_extraction.text import CountVectorizer\n",
    "\n",
    "# For Website Crawling\n",
    "from bs4 import BeautifulSoup\n",
    "import requests\n",
    "\n",
    "# For Sentimental Analysis\n",
    "import nltk\n",
    "from nltk.sentiment.vader import SentimentIntensityAnalyzer \n",
    "from textblob import TextBlob"
   ]
  },
  {
   "cell_type": "markdown",
   "metadata": {},
   "source": [
    "### Part 1: Preprocess Data"
   ]
  },
  {
   "cell_type": "code",
   "execution_count": 603,
   "metadata": {
    "collapsed": true
   },
   "outputs": [],
   "source": [
    "# data path\n",
    "stm_file = '16-10-us.txt'\n",
    "alter_file = '16-10-us-clean.txt'\n",
    "src_file = 'now_sources_pt2.txt'\n",
    "txt_file = '16-10-us-txt.txt'\n",
    "src_folder = 'source'"
   ]
  },
  {
   "cell_type": "markdown",
   "metadata": {},
   "source": [
    "##### 1.1 Stemming File Clean:\n",
    "As we find in the News Stemming File, there exits some illegal characters, therefore, we need to filter to get the pure data."
   ]
  },
  {
   "cell_type": "markdown",
   "metadata": {},
   "source": [
    "1.1.1 Encoding Issue"
   ]
  },
  {
   "cell_type": "code",
   "execution_count": 3,
   "metadata": {
    "collapsed": false
   },
   "outputs": [],
   "source": [
    "# remove the punctuations in the text, and replace them to N/A\n",
    "with open(stm_file, 'r', errors='replace', encoding='utf-8') as f:\n",
    "    with open(alter_file ,'w') as w:\n",
    "        w.write(re.sub('\\t[' + string.punctuation + ']\\t', '\\tN/A\\t', f.read()))"
   ]
  },
  {
   "cell_type": "markdown",
   "metadata": {},
   "source": [
    "1.1.2 Select the write format data"
   ]
  },
  {
   "cell_type": "code",
   "execution_count": 4,
   "metadata": {
    "collapsed": true
   },
   "outputs": [],
   "source": [
    "id_c = re.compile(r'\\d+')\n",
    "getId = lambda line: id_c.match(line).group(0)"
   ]
  },
  {
   "cell_type": "code",
   "execution_count": 115,
   "metadata": {
    "collapsed": true
   },
   "outputs": [],
   "source": [
    "colnames=['doc_id', 'word_id', 'word', 'origin_word', 'pos'] \n",
    "stemming_pd = pd.read_csv(alter_file, sep='\\t', error_bad_lines=False, engine='python', header=None, names=colnames)"
   ]
  },
  {
   "cell_type": "code",
   "execution_count": 6,
   "metadata": {
    "collapsed": false
   },
   "outputs": [
    {
     "data": {
      "text/html": [
       "<div>\n",
       "<style>\n",
       "    .dataframe thead tr:only-child th {\n",
       "        text-align: right;\n",
       "    }\n",
       "\n",
       "    .dataframe thead th {\n",
       "        text-align: left;\n",
       "    }\n",
       "\n",
       "    .dataframe tbody tr th {\n",
       "        vertical-align: top;\n",
       "    }\n",
       "</style>\n",
       "<table border=\"1\" class=\"dataframe\">\n",
       "  <thead>\n",
       "    <tr style=\"text-align: right;\">\n",
       "      <th></th>\n",
       "      <th>doc_id</th>\n",
       "      <th>word_id</th>\n",
       "      <th>word</th>\n",
       "      <th>origin_word</th>\n",
       "      <th>pos</th>\n",
       "    </tr>\n",
       "  </thead>\n",
       "  <tbody>\n",
       "    <tr>\n",
       "      <th>0</th>\n",
       "      <td>14637197</td>\n",
       "      <td>4739839025</td>\n",
       "      <td>@@14637197</td>\n",
       "      <td>NaN</td>\n",
       "      <td>fo</td>\n",
       "    </tr>\n",
       "    <tr>\n",
       "      <th>1</th>\n",
       "      <td>14637197</td>\n",
       "      <td>4739839026</td>\n",
       "      <td>&lt;p&gt;</td>\n",
       "      <td>NaN</td>\n",
       "      <td>null</td>\n",
       "    </tr>\n",
       "    <tr>\n",
       "      <th>2</th>\n",
       "      <td>14637197</td>\n",
       "      <td>4739839027</td>\n",
       "      <td>NEW</td>\n",
       "      <td>new</td>\n",
       "      <td>np1</td>\n",
       "    </tr>\n",
       "    <tr>\n",
       "      <th>3</th>\n",
       "      <td>14637197</td>\n",
       "      <td>4739839028</td>\n",
       "      <td>YORK</td>\n",
       "      <td>york</td>\n",
       "      <td>np1</td>\n",
       "    </tr>\n",
       "    <tr>\n",
       "      <th>4</th>\n",
       "      <td>14637197</td>\n",
       "      <td>4739839029</td>\n",
       "      <td>NaN</td>\n",
       "      <td>NaN</td>\n",
       "      <td>(</td>\n",
       "    </tr>\n",
       "    <tr>\n",
       "      <th>5</th>\n",
       "      <td>14637197</td>\n",
       "      <td>4739839030</td>\n",
       "      <td>AP</td>\n",
       "      <td>ap</td>\n",
       "      <td>np1</td>\n",
       "    </tr>\n",
       "    <tr>\n",
       "      <th>6</th>\n",
       "      <td>14637197</td>\n",
       "      <td>4739839031</td>\n",
       "      <td>NaN</td>\n",
       "      <td>NaN</td>\n",
       "      <td>)</td>\n",
       "    </tr>\n",
       "    <tr>\n",
       "      <th>7</th>\n",
       "      <td>14637197</td>\n",
       "      <td>4739839032</td>\n",
       "      <td>--</td>\n",
       "      <td>NaN</td>\n",
       "      <td>jj_nn1</td>\n",
       "    </tr>\n",
       "    <tr>\n",
       "      <th>8</th>\n",
       "      <td>14637197</td>\n",
       "      <td>4739839033</td>\n",
       "      <td>Donald</td>\n",
       "      <td>donald</td>\n",
       "      <td>np1</td>\n",
       "    </tr>\n",
       "    <tr>\n",
       "      <th>9</th>\n",
       "      <td>14637197</td>\n",
       "      <td>4739839034</td>\n",
       "      <td>Trump</td>\n",
       "      <td>trump</td>\n",
       "      <td>nn1</td>\n",
       "    </tr>\n",
       "  </tbody>\n",
       "</table>\n",
       "</div>"
      ],
      "text/plain": [
       "     doc_id     word_id        word origin_word     pos\n",
       "0  14637197  4739839025  @@14637197         NaN      fo\n",
       "1  14637197  4739839026         <p>         NaN    null\n",
       "2  14637197  4739839027         NEW         new     np1\n",
       "3  14637197  4739839028        YORK        york     np1\n",
       "4  14637197  4739839029         NaN         NaN       (\n",
       "5  14637197  4739839030          AP          ap     np1\n",
       "6  14637197  4739839031         NaN         NaN       )\n",
       "7  14637197  4739839032          --         NaN  jj_nn1\n",
       "8  14637197  4739839033      Donald      donald     np1\n",
       "9  14637197  4739839034       Trump       trump     nn1"
      ]
     },
     "execution_count": 6,
     "metadata": {},
     "output_type": "execute_result"
    }
   ],
   "source": [
    "# the stemmed result\n",
    "stemming_pd.head(10)"
   ]
  },
  {
   "cell_type": "code",
   "execution_count": 7,
   "metadata": {
    "collapsed": true
   },
   "outputs": [],
   "source": [
    "# remove N/A (including punctuations)\n",
    "stemming_pd.dropna(inplace=True)"
   ]
  },
  {
   "cell_type": "code",
   "execution_count": 8,
   "metadata": {
    "collapsed": false
   },
   "outputs": [
    {
     "data": {
      "text/html": [
       "<div>\n",
       "<style>\n",
       "    .dataframe thead tr:only-child th {\n",
       "        text-align: right;\n",
       "    }\n",
       "\n",
       "    .dataframe thead th {\n",
       "        text-align: left;\n",
       "    }\n",
       "\n",
       "    .dataframe tbody tr th {\n",
       "        vertical-align: top;\n",
       "    }\n",
       "</style>\n",
       "<table border=\"1\" class=\"dataframe\">\n",
       "  <thead>\n",
       "    <tr style=\"text-align: right;\">\n",
       "      <th></th>\n",
       "      <th>doc_id</th>\n",
       "      <th>word_id</th>\n",
       "      <th>word</th>\n",
       "      <th>origin_word</th>\n",
       "      <th>pos</th>\n",
       "    </tr>\n",
       "  </thead>\n",
       "  <tbody>\n",
       "    <tr>\n",
       "      <th>2</th>\n",
       "      <td>14637197</td>\n",
       "      <td>4739839027</td>\n",
       "      <td>NEW</td>\n",
       "      <td>new</td>\n",
       "      <td>np1</td>\n",
       "    </tr>\n",
       "    <tr>\n",
       "      <th>3</th>\n",
       "      <td>14637197</td>\n",
       "      <td>4739839028</td>\n",
       "      <td>YORK</td>\n",
       "      <td>york</td>\n",
       "      <td>np1</td>\n",
       "    </tr>\n",
       "    <tr>\n",
       "      <th>5</th>\n",
       "      <td>14637197</td>\n",
       "      <td>4739839030</td>\n",
       "      <td>AP</td>\n",
       "      <td>ap</td>\n",
       "      <td>np1</td>\n",
       "    </tr>\n",
       "    <tr>\n",
       "      <th>8</th>\n",
       "      <td>14637197</td>\n",
       "      <td>4739839033</td>\n",
       "      <td>Donald</td>\n",
       "      <td>donald</td>\n",
       "      <td>np1</td>\n",
       "    </tr>\n",
       "    <tr>\n",
       "      <th>9</th>\n",
       "      <td>14637197</td>\n",
       "      <td>4739839034</td>\n",
       "      <td>Trump</td>\n",
       "      <td>trump</td>\n",
       "      <td>nn1</td>\n",
       "    </tr>\n",
       "    <tr>\n",
       "      <th>10</th>\n",
       "      <td>14637197</td>\n",
       "      <td>4739839035</td>\n",
       "      <td>'s</td>\n",
       "      <td>'s</td>\n",
       "      <td>ge</td>\n",
       "    </tr>\n",
       "    <tr>\n",
       "      <th>11</th>\n",
       "      <td>14637197</td>\n",
       "      <td>4739839036</td>\n",
       "      <td>five-day</td>\n",
       "      <td>five-day</td>\n",
       "      <td>jj</td>\n",
       "    </tr>\n",
       "    <tr>\n",
       "      <th>12</th>\n",
       "      <td>14637197</td>\n",
       "      <td>4739839037</td>\n",
       "      <td>feud</td>\n",
       "      <td>feud</td>\n",
       "      <td>nn1</td>\n",
       "    </tr>\n",
       "    <tr>\n",
       "      <th>13</th>\n",
       "      <td>14637197</td>\n",
       "      <td>4739839038</td>\n",
       "      <td>with</td>\n",
       "      <td>with</td>\n",
       "      <td>iw</td>\n",
       "    </tr>\n",
       "    <tr>\n",
       "      <th>14</th>\n",
       "      <td>14637197</td>\n",
       "      <td>4739839039</td>\n",
       "      <td>a</td>\n",
       "      <td>a</td>\n",
       "      <td>at1</td>\n",
       "    </tr>\n",
       "  </tbody>\n",
       "</table>\n",
       "</div>"
      ],
      "text/plain": [
       "      doc_id     word_id      word origin_word  pos\n",
       "2   14637197  4739839027       NEW         new  np1\n",
       "3   14637197  4739839028      YORK        york  np1\n",
       "5   14637197  4739839030        AP          ap  np1\n",
       "8   14637197  4739839033    Donald      donald  np1\n",
       "9   14637197  4739839034     Trump       trump  nn1\n",
       "10  14637197  4739839035        's          's   ge\n",
       "11  14637197  4739839036  five-day    five-day   jj\n",
       "12  14637197  4739839037      feud        feud  nn1\n",
       "13  14637197  4739839038      with        with   iw\n",
       "14  14637197  4739839039         a           a  at1"
      ]
     },
     "execution_count": 8,
     "metadata": {},
     "output_type": "execute_result"
    }
   ],
   "source": [
    "# after drop NA\n",
    "stemming_pd.head(10)"
   ]
  },
  {
   "cell_type": "code",
   "execution_count": 9,
   "metadata": {
    "collapsed": false
   },
   "outputs": [],
   "source": [
    "# cleaned text by eliminating punctuations and illegal characters\n",
    "stemming_list = stemming_pd.groupby('doc_id')['origin_word'].apply(list).apply(lambda x: ' '.join(x))"
   ]
  },
  {
   "cell_type": "code",
   "execution_count": 10,
   "metadata": {
    "collapsed": false
   },
   "outputs": [
    {
     "data": {
      "text/html": [
       "<div>\n",
       "<style>\n",
       "    .dataframe thead tr:only-child th {\n",
       "        text-align: right;\n",
       "    }\n",
       "\n",
       "    .dataframe thead th {\n",
       "        text-align: left;\n",
       "    }\n",
       "\n",
       "    .dataframe tbody tr th {\n",
       "        vertical-align: top;\n",
       "    }\n",
       "</style>\n",
       "<table border=\"1\" class=\"dataframe\">\n",
       "  <thead>\n",
       "    <tr style=\"text-align: right;\">\n",
       "      <th></th>\n",
       "      <th>origin_word</th>\n",
       "    </tr>\n",
       "    <tr>\n",
       "      <th>doc_id</th>\n",
       "      <th></th>\n",
       "    </tr>\n",
       "  </thead>\n",
       "  <tbody>\n",
       "    <tr>\n",
       "      <th>14637197</th>\n",
       "      <td>new york ap donald trump 's five-day feud with...</td>\n",
       "    </tr>\n",
       "    <tr>\n",
       "      <th>14637200</th>\n",
       "      <td>here be all the crazy stuff that happen at the...</td>\n",
       "    </tr>\n",
       "    <tr>\n",
       "      <th>14637201</th>\n",
       "      <td>another hotel want to build in the heart of ho...</td>\n",
       "    </tr>\n",
       "    <tr>\n",
       "      <th>14637202</th>\n",
       "      <td>in this sept 23 2016 photo rick retail sales m...</td>\n",
       "    </tr>\n",
       "    <tr>\n",
       "      <th>14637203</th>\n",
       "      <td>court erase jury award of punitive damage agai...</td>\n",
       "    </tr>\n",
       "  </tbody>\n",
       "</table>\n",
       "</div>"
      ],
      "text/plain": [
       "                                                origin_word\n",
       "doc_id                                                     \n",
       "14637197  new york ap donald trump 's five-day feud with...\n",
       "14637200  here be all the crazy stuff that happen at the...\n",
       "14637201  another hotel want to build in the heart of ho...\n",
       "14637202  in this sept 23 2016 photo rick retail sales m...\n",
       "14637203  court erase jury award of punitive damage agai..."
      ]
     },
     "execution_count": 10,
     "metadata": {},
     "output_type": "execute_result"
    }
   ],
   "source": [
    "pd.DataFrame(stemming_list).head()"
   ]
  },
  {
   "cell_type": "markdown",
   "metadata": {},
   "source": [
    "##### 1.2 Load the data Source"
   ]
  },
  {
   "cell_type": "markdown",
   "metadata": {},
   "source": [
    "1.2.1 load new source data"
   ]
  },
  {
   "cell_type": "code",
   "execution_count": 11,
   "metadata": {
    "collapsed": false
   },
   "outputs": [],
   "source": [
    "new_src = pd.read_csv(os.path.join(src_folder, src_file), delimiter=\"\\t\", header=None, encoding = \"ISO-8859-1\")"
   ]
  },
  {
   "cell_type": "code",
   "execution_count": 12,
   "metadata": {
    "collapsed": false
   },
   "outputs": [],
   "source": [
    "new_src.columns=['id','unknown','date','country','media','website','title']"
   ]
  },
  {
   "cell_type": "code",
   "execution_count": 596,
   "metadata": {
    "collapsed": false,
    "scrolled": false
   },
   "outputs": [
    {
     "data": {
      "text/html": [
       "<div>\n",
       "<style>\n",
       "    .dataframe thead tr:only-child th {\n",
       "        text-align: right;\n",
       "    }\n",
       "\n",
       "    .dataframe thead th {\n",
       "        text-align: left;\n",
       "    }\n",
       "\n",
       "    .dataframe tbody tr th {\n",
       "        vertical-align: top;\n",
       "    }\n",
       "</style>\n",
       "<table border=\"1\" class=\"dataframe\">\n",
       "  <thead>\n",
       "    <tr style=\"text-align: right;\">\n",
       "      <th></th>\n",
       "      <th>id</th>\n",
       "      <th>unknown</th>\n",
       "      <th>date</th>\n",
       "      <th>country</th>\n",
       "      <th>media</th>\n",
       "      <th>website</th>\n",
       "      <th>title</th>\n",
       "      <th>year</th>\n",
       "      <th>month</th>\n",
       "      <th>day</th>\n",
       "    </tr>\n",
       "  </thead>\n",
       "  <tbody>\n",
       "    <tr>\n",
       "      <th>0</th>\n",
       "      <td>2930853</td>\n",
       "      <td>194</td>\n",
       "      <td>15-01-01</td>\n",
       "      <td>US</td>\n",
       "      <td>Consequence of Sound</td>\n",
       "      <td>http://consequenceofsound.net/2015/01/100000-c...</td>\n",
       "      <td>100000 copies of The Interview will be dropped...</td>\n",
       "      <td>15</td>\n",
       "      <td>01</td>\n",
       "      <td>01</td>\n",
       "    </tr>\n",
       "    <tr>\n",
       "      <th>1</th>\n",
       "      <td>2930854</td>\n",
       "      <td>266</td>\n",
       "      <td>15-01-01</td>\n",
       "      <td>US</td>\n",
       "      <td>Los Angeles Times</td>\n",
       "      <td>http://www.latimes.com/entertainment/movies/la...</td>\n",
       "      <td>'The Taking of Tiger Mountain' gets blockbuste...</td>\n",
       "      <td>15</td>\n",
       "      <td>01</td>\n",
       "      <td>01</td>\n",
       "    </tr>\n",
       "    <tr>\n",
       "      <th>2</th>\n",
       "      <td>2930855</td>\n",
       "      <td>701</td>\n",
       "      <td>15-01-01</td>\n",
       "      <td>US</td>\n",
       "      <td>TIME</td>\n",
       "      <td>http://time.com/3651697/afghanistan-war-cost/</td>\n",
       "      <td>The True Cost of the Afghanistan War May Surpr...</td>\n",
       "      <td>15</td>\n",
       "      <td>01</td>\n",
       "      <td>01</td>\n",
       "    </tr>\n",
       "  </tbody>\n",
       "</table>\n",
       "</div>"
      ],
      "text/plain": [
       "        id  unknown      date country                 media  \\\n",
       "0  2930853      194  15-01-01      US  Consequence of Sound   \n",
       "1  2930854      266  15-01-01      US     Los Angeles Times   \n",
       "2  2930855      701  15-01-01      US                  TIME   \n",
       "\n",
       "                                             website  \\\n",
       "0  http://consequenceofsound.net/2015/01/100000-c...   \n",
       "1  http://www.latimes.com/entertainment/movies/la...   \n",
       "2      http://time.com/3651697/afghanistan-war-cost/   \n",
       "\n",
       "                                               title year month day  \n",
       "0  100000 copies of The Interview will be dropped...   15    01  01  \n",
       "1  'The Taking of Tiger Mountain' gets blockbuste...   15    01  01  \n",
       "2  The True Cost of the Afghanistan War May Surpr...   15    01  01  "
      ]
     },
     "execution_count": 596,
     "metadata": {},
     "output_type": "execute_result"
    }
   ],
   "source": [
    "new_src.head(3)"
   ]
  },
  {
   "cell_type": "markdown",
   "metadata": {},
   "source": [
    "1.2.2 Data filtering and selection"
   ]
  },
  {
   "cell_type": "code",
   "execution_count": 14,
   "metadata": {
    "collapsed": true
   },
   "outputs": [],
   "source": [
    "new_src['year'], new_src['month'], new_src['day'] = new_src['date'].str.split('-', 2).str"
   ]
  },
  {
   "cell_type": "code",
   "execution_count": 191,
   "metadata": {
    "collapsed": false
   },
   "outputs": [
    {
     "data": {
      "text/html": [
       "<div>\n",
       "<style>\n",
       "    .dataframe thead tr:only-child th {\n",
       "        text-align: right;\n",
       "    }\n",
       "\n",
       "    .dataframe thead th {\n",
       "        text-align: left;\n",
       "    }\n",
       "\n",
       "    .dataframe tbody tr th {\n",
       "        vertical-align: top;\n",
       "    }\n",
       "</style>\n",
       "<table border=\"1\" class=\"dataframe\">\n",
       "  <thead>\n",
       "    <tr style=\"text-align: right;\">\n",
       "      <th></th>\n",
       "      <th>id</th>\n",
       "      <th>unknown</th>\n",
       "      <th>date</th>\n",
       "      <th>country</th>\n",
       "      <th>media</th>\n",
       "      <th>website</th>\n",
       "      <th>title</th>\n",
       "      <th>year</th>\n",
       "      <th>month</th>\n",
       "      <th>day</th>\n",
       "    </tr>\n",
       "  </thead>\n",
       "  <tbody>\n",
       "    <tr>\n",
       "      <th>0</th>\n",
       "      <td>2930853</td>\n",
       "      <td>194</td>\n",
       "      <td>15-01-01</td>\n",
       "      <td>US</td>\n",
       "      <td>Consequence of Sound</td>\n",
       "      <td>http://consequenceofsound.net/2015/01/100000-c...</td>\n",
       "      <td>100000 copies of The Interview will be dropped...</td>\n",
       "      <td>15</td>\n",
       "      <td>01</td>\n",
       "      <td>01</td>\n",
       "    </tr>\n",
       "    <tr>\n",
       "      <th>1</th>\n",
       "      <td>2930854</td>\n",
       "      <td>266</td>\n",
       "      <td>15-01-01</td>\n",
       "      <td>US</td>\n",
       "      <td>Los Angeles Times</td>\n",
       "      <td>http://www.latimes.com/entertainment/movies/la...</td>\n",
       "      <td>'The Taking of Tiger Mountain' gets blockbuste...</td>\n",
       "      <td>15</td>\n",
       "      <td>01</td>\n",
       "      <td>01</td>\n",
       "    </tr>\n",
       "    <tr>\n",
       "      <th>2</th>\n",
       "      <td>2930855</td>\n",
       "      <td>701</td>\n",
       "      <td>15-01-01</td>\n",
       "      <td>US</td>\n",
       "      <td>TIME</td>\n",
       "      <td>http://time.com/3651697/afghanistan-war-cost/</td>\n",
       "      <td>The True Cost of the Afghanistan War May Surpr...</td>\n",
       "      <td>15</td>\n",
       "      <td>01</td>\n",
       "      <td>01</td>\n",
       "    </tr>\n",
       "  </tbody>\n",
       "</table>\n",
       "</div>"
      ],
      "text/plain": [
       "        id  unknown      date country                 media  \\\n",
       "0  2930853      194  15-01-01      US  Consequence of Sound   \n",
       "1  2930854      266  15-01-01      US     Los Angeles Times   \n",
       "2  2930855      701  15-01-01      US                  TIME   \n",
       "\n",
       "                                             website  \\\n",
       "0  http://consequenceofsound.net/2015/01/100000-c...   \n",
       "1  http://www.latimes.com/entertainment/movies/la...   \n",
       "2      http://time.com/3651697/afghanistan-war-cost/   \n",
       "\n",
       "                                               title year month day  \n",
       "0  100000 copies of The Interview will be dropped...   15    01  01  \n",
       "1  'The Taking of Tiger Mountain' gets blockbuste...   15    01  01  \n",
       "2  The True Cost of the Afghanistan War May Surpr...   15    01  01  "
      ]
     },
     "execution_count": 191,
     "metadata": {},
     "output_type": "execute_result"
    }
   ],
   "source": [
    "new_src.head(3)"
   ]
  },
  {
   "cell_type": "code",
   "execution_count": 16,
   "metadata": {
    "collapsed": true
   },
   "outputs": [],
   "source": [
    "new_src_us = new_src[new_src['country'] == 'US']"
   ]
  },
  {
   "cell_type": "code",
   "execution_count": 18,
   "metadata": {
    "collapsed": false
   },
   "outputs": [],
   "source": [
    "data_US_16_10 = new_src_us[(new_src_us['year'] == '16') & (new_src_us['month'] == '10')]"
   ]
  },
  {
   "cell_type": "code",
   "execution_count": 27,
   "metadata": {
    "collapsed": false
   },
   "outputs": [],
   "source": [
    "data_US_16_10_sorted = data_US_16_10.sort_values(by = 'id')"
   ]
  },
  {
   "cell_type": "code",
   "execution_count": 192,
   "metadata": {
    "collapsed": false,
    "scrolled": false
   },
   "outputs": [
    {
     "data": {
      "text/html": [
       "<div>\n",
       "<style>\n",
       "    .dataframe thead tr:only-child th {\n",
       "        text-align: right;\n",
       "    }\n",
       "\n",
       "    .dataframe thead th {\n",
       "        text-align: left;\n",
       "    }\n",
       "\n",
       "    .dataframe tbody tr th {\n",
       "        vertical-align: top;\n",
       "    }\n",
       "</style>\n",
       "<table border=\"1\" class=\"dataframe\">\n",
       "  <thead>\n",
       "    <tr style=\"text-align: right;\">\n",
       "      <th></th>\n",
       "      <th>id</th>\n",
       "      <th>unknown</th>\n",
       "      <th>date</th>\n",
       "      <th>country</th>\n",
       "      <th>media</th>\n",
       "      <th>website</th>\n",
       "      <th>title</th>\n",
       "      <th>year</th>\n",
       "      <th>month</th>\n",
       "      <th>day</th>\n",
       "    </tr>\n",
       "  </thead>\n",
       "  <tbody>\n",
       "    <tr>\n",
       "      <th>304572</th>\n",
       "      <td>14637197</td>\n",
       "      <td>170</td>\n",
       "      <td>16-10-01</td>\n",
       "      <td>US</td>\n",
       "      <td>Bristol Herald Courier (press release) (blog)</td>\n",
       "      <td>http://www.heraldcourier.com/news/trump-s-habi...</td>\n",
       "      <td>Trump's habit of fuming over slights comes at ...</td>\n",
       "      <td>16</td>\n",
       "      <td>10</td>\n",
       "      <td>01</td>\n",
       "    </tr>\n",
       "    <tr>\n",
       "      <th>304573</th>\n",
       "      <td>14637200</td>\n",
       "      <td>411</td>\n",
       "      <td>16-10-01</td>\n",
       "      <td>US</td>\n",
       "      <td>CBSSports.com</td>\n",
       "      <td>http://www.cbssports.com/college-football/news...</td>\n",
       "      <td>Here's all the crazy stuff that happened at th...</td>\n",
       "      <td>16</td>\n",
       "      <td>10</td>\n",
       "      <td>01</td>\n",
       "    </tr>\n",
       "    <tr>\n",
       "      <th>304574</th>\n",
       "      <td>14637201</td>\n",
       "      <td>159</td>\n",
       "      <td>16-10-01</td>\n",
       "      <td>US</td>\n",
       "      <td>Curbed LA</td>\n",
       "      <td>http://la.curbed.com/2016/9/30/13128220/hollyw...</td>\n",
       "      <td>11 story hotel proposed for the heart of Holly...</td>\n",
       "      <td>16</td>\n",
       "      <td>10</td>\n",
       "      <td>01</td>\n",
       "    </tr>\n",
       "  </tbody>\n",
       "</table>\n",
       "</div>"
      ],
      "text/plain": [
       "              id  unknown      date country  \\\n",
       "304572  14637197      170  16-10-01      US   \n",
       "304573  14637200      411  16-10-01      US   \n",
       "304574  14637201      159  16-10-01      US   \n",
       "\n",
       "                                                media  \\\n",
       "304572  Bristol Herald Courier (press release) (blog)   \n",
       "304573                                  CBSSports.com   \n",
       "304574                                      Curbed LA   \n",
       "\n",
       "                                                  website  \\\n",
       "304572  http://www.heraldcourier.com/news/trump-s-habi...   \n",
       "304573  http://www.cbssports.com/college-football/news...   \n",
       "304574  http://la.curbed.com/2016/9/30/13128220/hollyw...   \n",
       "\n",
       "                                                    title year month day  \n",
       "304572  Trump's habit of fuming over slights comes at ...   16    10  01  \n",
       "304573  Here's all the crazy stuff that happened at th...   16    10  01  \n",
       "304574  11 story hotel proposed for the heart of Holly...   16    10  01  "
      ]
     },
     "execution_count": 192,
     "metadata": {},
     "output_type": "execute_result"
    }
   ],
   "source": [
    "data_US_16_10_sorted.head(3)"
   ]
  },
  {
   "cell_type": "code",
   "execution_count": 602,
   "metadata": {
    "collapsed": false
   },
   "outputs": [
    {
     "data": {
      "image/png": "[encoded data removed]",
      "text/plain": [
       "<matplotlib.figure.Figure at 0x7fd4cc525cc0>"
      ]
     },
     "metadata": {},
     "output_type": "display_data"
    }
   ],
   "source": [
    "data_US_16_10_sorted['day'].value_counts().sort_index().plot.bar()\n",
    "plt.title('News Post Frequency according to the Data')\n",
    "plt.ylabel('#News Post')\n",
    "plt.xlabel('Date')\n",
    "plt.xticks(rotation=0)\n",
    "plt.show()"
   ]
  },
  {
   "cell_type": "markdown",
   "metadata": {},
   "source": [
    "##### 1.3 Load text of news"
   ]
  },
  {
   "cell_type": "markdown",
   "metadata": {},
   "source": [
    "1.3.1 load the file"
   ]
  },
  {
   "cell_type": "code",
   "execution_count": 173,
   "metadata": {
    "collapsed": true
   },
   "outputs": [],
   "source": [
    "with open(txt_file, 'r') as f:\n",
    "    txt = f.read()"
   ]
  },
  {
   "cell_type": "code",
   "execution_count": 178,
   "metadata": {
    "collapsed": false,
    "scrolled": false
   },
   "outputs": [
    {
     "data": {
      "text/plain": [
       "'@@14637197 <p> NEW YORK ( AP ) -- Donald Trump \\'s five-day feud with a former beauty queen is only the latest example of his insistence on airing and re-airing his grievances no matter the political cost . <p> The Republican nominee \\'s brash , confrontational style has thrilled his millions of supporters , who have cheered the celebrity businessman \\'s tenacity and thirst for verbal combat . He bragged in the early weeks of his campaign last year , \" When people treat me unfairly , I do n\\'t let them forget it . \" <h> Subscription Required <p> An online service is needed to view this article in its entirety . You need an online service to view this article in its entirety . <p> Thank you for reading 15 free articles on our site . You can come back at the end of your 30-day period for another 15 free articles , or you can purchase a subscription and continue to enjoy valuable local news and information . If you need help , please contact our office at 276-669-2181 . You need an online service to @ @ @ @ @ @ @ \\n@@14637200 <h> Here \\'s all the crazy stuff that happened at the end of BYU \\'s 55-53 win over Toledo <h> Mack Brown left the broadcast , a wacky two-point conversion was scored and more <p> BYU beat Toledo 55-53 in the wee hours of Saturday morning . And yes , the game was every bit as insane as the score indicates . With eight lead changes -- all in the second half -- this was an ending worthy of honorary #Pac12AfterDark status even if neither team plays in the Pac-12 . <p'"
      ]
     },
     "execution_count": 178,
     "metadata": {},
     "output_type": "execute_result"
    }
   ],
   "source": [
    "# show the text content\n",
    "txt[:1500]"
   ]
  },
  {
   "cell_type": "markdown",
   "metadata": {},
   "source": [
    "1.3.2 Data formalization and cleaning"
   ]
  },
  {
   "cell_type": "code",
   "execution_count": 179,
   "metadata": {
    "collapsed": true
   },
   "outputs": [],
   "source": [
    "# re object defination\n",
    "# get ID\n",
    "id_tag = re.compile('\\@\\@([0-9]{8})')\n",
    "\n",
    "# remove <p>, <p>\n",
    "tagger = re.compile(r'\\<.{1,2}\\>')"
   ]
  },
  {
   "cell_type": "code",
   "execution_count": 242,
   "metadata": {
    "collapsed": true
   },
   "outputs": [],
   "source": [
    "# generator of the id_tag\n",
    "iterpnt = id_tag.finditer(txt)\n",
    "txt_dict = {}"
   ]
  },
  {
   "cell_type": "code",
   "execution_count": 243,
   "metadata": {
    "collapsed": true
   },
   "outputs": [],
   "source": [
    "# get id regexp object list\n",
    "pnt_list = [pnt for pnt in iterpnt]\n",
    "\n",
    "# get the text responding to news id\n",
    "for i in range(1, len(pnt_list)+1):\n",
    "    if i < len(pnt_list):\n",
    "        txt_dict[pnt_list[i-1].group(1)] = tagger.sub('', txt[pnt_list[i-1].span()[1]:pnt_list[i].span()[0]])\n",
    "    else:\n",
    "        txt_dict[pnt_list[i-1].group(1)] = tagger.sub('', txt[pnt_list[i-1].span()[1]:])"
   ]
  },
  {
   "cell_type": "code",
   "execution_count": 422,
   "metadata": {
    "collapsed": false
   },
   "outputs": [
    {
     "data": {
      "text/html": [
       "<div>\n",
       "<style>\n",
       "    .dataframe thead tr:only-child th {\n",
       "        text-align: right;\n",
       "    }\n",
       "\n",
       "    .dataframe thead th {\n",
       "        text-align: left;\n",
       "    }\n",
       "\n",
       "    .dataframe tbody tr th {\n",
       "        vertical-align: top;\n",
       "    }\n",
       "</style>\n",
       "<table border=\"1\" class=\"dataframe\">\n",
       "  <thead>\n",
       "    <tr style=\"text-align: right;\">\n",
       "      <th></th>\n",
       "      <th>txt</th>\n",
       "    </tr>\n",
       "  </thead>\n",
       "  <tbody>\n",
       "    <tr>\n",
       "      <th>14637197</th>\n",
       "      <td>NEW YORK ( AP ) -- Donald Trump 's five-day ...</td>\n",
       "    </tr>\n",
       "    <tr>\n",
       "      <th>14637200</th>\n",
       "      <td>Here 's all the crazy stuff that happened at...</td>\n",
       "    </tr>\n",
       "    <tr>\n",
       "      <th>14637201</th>\n",
       "      <td>Another hotel wants to build in the heart of...</td>\n",
       "    </tr>\n",
       "    <tr>\n",
       "      <th>14637202</th>\n",
       "      <td>In this Sept. 23 , 2016 photo , Rick Wollum ...</td>\n",
       "    </tr>\n",
       "    <tr>\n",
       "      <th>14637203</th>\n",
       "      <td>Court erases jury award of punitive damages ...</td>\n",
       "    </tr>\n",
       "  </tbody>\n",
       "</table>\n",
       "</div>"
      ],
      "text/plain": [
       "                                                        txt\n",
       "14637197    NEW YORK ( AP ) -- Donald Trump 's five-day ...\n",
       "14637200    Here 's all the crazy stuff that happened at...\n",
       "14637201    Another hotel wants to build in the heart of...\n",
       "14637202    In this Sept. 23 , 2016 photo , Rick Wollum ...\n",
       "14637203    Court erases jury award of punitive damages ..."
      ]
     },
     "execution_count": 422,
     "metadata": {},
     "output_type": "execute_result"
    }
   ],
   "source": [
    "# transform to DataFrame\n",
    "txt_pd = pd.DataFrame(pd.Series(txt_dict, name='txt'))\n",
    "txt_pd.head(5)"
   ]
  },
  {
   "cell_type": "code",
   "execution_count": 245,
   "metadata": {
    "collapsed": false
   },
   "outputs": [
    {
     "data": {
      "text/plain": [
       "'  NEW YORK ( AP ) -- Donald Trump \\'s five-day feud with a former beauty queen is only the latest example of his insistence on airing and re-airing his grievances no matter the political cost .  The Republican nominee \\'s brash , confrontational style has thrilled his millions of supporters , who have cheered the celebrity businessman \\'s tenacity and thirst for verbal combat . He bragged in the early weeks of his campaign last year , \" When people treat me unfairly , I do n\\'t let them forget it . \"  Subscription Required  An online service is needed to view this article in its entirety . You need an online service to view this article in its entirety .  Thank you for reading 15 free articles on our site . You can come back at the end of your 30-day period for another 15 free articles , or you can purchase a subscription and continue to enjoy valuable local news and information . If you need help , please contact our office at 276-669-2181 . You need an online service to @ @ @ @ @ @ @ \\n'"
      ]
     },
     "execution_count": 245,
     "metadata": {},
     "output_type": "execute_result"
    }
   ],
   "source": [
    "# show the transformed content of an article\n",
    "txt_pd['txt'][0]"
   ]
  },
  {
   "cell_type": "markdown",
   "metadata": {},
   "source": [
    "### Part 2: Select Topic"
   ]
  },
  {
   "cell_type": "markdown",
   "metadata": {},
   "source": [
    "After data processing, we step to the next step of topic selection. We will use the methods of TF-IDF, which has been embeded in skicit-learn."
   ]
  },
  {
   "cell_type": "markdown",
   "metadata": {},
   "source": [
    "##### 2.1 Get the word frequency"
   ]
  },
  {
   "cell_type": "code",
   "execution_count": 30,
   "metadata": {
    "collapsed": true
   },
   "outputs": [],
   "source": [
    "# In the milestone, we only consider 1-gram in the tf-idf\n",
    "countvec = CountVectorizer(stop_words='english', ngram_range=(1,1))\n",
    "tfidfvec = TfidfTransformer()"
   ]
  },
  {
   "cell_type": "code",
   "execution_count": 31,
   "metadata": {
    "collapsed": true
   },
   "outputs": [],
   "source": [
    "text_list = list(stemming_list.values)\n",
    "ind_list = list(stemming_list.keys())"
   ]
  },
  {
   "cell_type": "code",
   "execution_count": 32,
   "metadata": {
    "collapsed": false,
    "scrolled": true
   },
   "outputs": [],
   "source": [
    "# calculate the word frequency\n",
    "word_freq = countvec.fit_transform(text_list)"
   ]
  },
  {
   "cell_type": "code",
   "execution_count": 34,
   "metadata": {
    "collapsed": false
   },
   "outputs": [],
   "source": [
    "# get the number of news and the number of 1-gram\n",
    "num_doc, num_feat = word_freq.shape"
   ]
  },
  {
   "cell_type": "code",
   "execution_count": 50,
   "metadata": {
    "collapsed": false
   },
   "outputs": [
    {
     "data": {
      "text/plain": [
       "['burke',\n",
       " 'burkett',\n",
       " 'burkhardt',\n",
       " 'burkholder',\n",
       " 'burkina',\n",
       " 'burkitt',\n",
       " 'burkle',\n",
       " 'burks',\n",
       " 'burlap',\n",
       " 'burleigh']"
      ]
     },
     "execution_count": 50,
     "metadata": {},
     "output_type": "execute_result"
    }
   ],
   "source": [
    "# show 1-gram words sorted in alphabetical order\n",
    "features = countvec.get_feature_names()\n",
    "features[10000:10010]"
   ]
  },
  {
   "cell_type": "code",
   "execution_count": 39,
   "metadata": {
    "collapsed": false
   },
   "outputs": [
    {
     "data": {
      "text/plain": [
       "<23055x65844 sparse matrix of type '<class 'numpy.int64'>'\n",
       "\twith 2365276 stored elements in Compressed Sparse Row format>"
      ]
     },
     "execution_count": 39,
     "metadata": {},
     "output_type": "execute_result"
    }
   ],
   "source": [
    "# show the word frequency matrix\n",
    "word_freq"
   ]
  },
  {
   "cell_type": "markdown",
   "metadata": {},
   "source": [
    "We find that the word freqency matrix is highly sparse."
   ]
  },
  {
   "cell_type": "code",
   "execution_count": 45,
   "metadata": {
    "collapsed": false
   },
   "outputs": [
    {
     "data": {
      "text/html": [
       "<div>\n",
       "<style>\n",
       "    .dataframe thead tr:only-child th {\n",
       "        text-align: right;\n",
       "    }\n",
       "\n",
       "    .dataframe thead th {\n",
       "        text-align: left;\n",
       "    }\n",
       "\n",
       "    .dataframe tbody tr th {\n",
       "        vertical-align: top;\n",
       "    }\n",
       "</style>\n",
       "<table border=\"1\" class=\"dataframe\">\n",
       "  <thead>\n",
       "    <tr style=\"text-align: right;\">\n",
       "      <th></th>\n",
       "      <th>00</th>\n",
       "      <th>000</th>\n",
       "      <th>0000</th>\n",
       "      <th>000th</th>\n",
       "      <th>001</th>\n",
       "      <th>002</th>\n",
       "      <th>0023</th>\n",
       "      <th>003</th>\n",
       "      <th>004</th>\n",
       "      <th>005</th>\n",
       "      <th>...</th>\n",
       "      <th>zuzu</th>\n",
       "      <th>zverev</th>\n",
       "      <th>zvi</th>\n",
       "      <th>zweig</th>\n",
       "      <th>zwick</th>\n",
       "      <th>zwierlein</th>\n",
       "      <th>zwilling</th>\n",
       "      <th>zx</th>\n",
       "      <th>zygote</th>\n",
       "      <th>zz</th>\n",
       "    </tr>\n",
       "  </thead>\n",
       "  <tbody>\n",
       "    <tr>\n",
       "      <th>0</th>\n",
       "      <td>0</td>\n",
       "      <td>0</td>\n",
       "      <td>0</td>\n",
       "      <td>0</td>\n",
       "      <td>0</td>\n",
       "      <td>0</td>\n",
       "      <td>0</td>\n",
       "      <td>0</td>\n",
       "      <td>0</td>\n",
       "      <td>0</td>\n",
       "      <td>...</td>\n",
       "      <td>0</td>\n",
       "      <td>0</td>\n",
       "      <td>0</td>\n",
       "      <td>0</td>\n",
       "      <td>0</td>\n",
       "      <td>0</td>\n",
       "      <td>0</td>\n",
       "      <td>0</td>\n",
       "      <td>0</td>\n",
       "      <td>0</td>\n",
       "    </tr>\n",
       "    <tr>\n",
       "      <th>1</th>\n",
       "      <td>0</td>\n",
       "      <td>0</td>\n",
       "      <td>0</td>\n",
       "      <td>0</td>\n",
       "      <td>0</td>\n",
       "      <td>0</td>\n",
       "      <td>0</td>\n",
       "      <td>0</td>\n",
       "      <td>0</td>\n",
       "      <td>0</td>\n",
       "      <td>...</td>\n",
       "      <td>0</td>\n",
       "      <td>0</td>\n",
       "      <td>0</td>\n",
       "      <td>0</td>\n",
       "      <td>0</td>\n",
       "      <td>0</td>\n",
       "      <td>0</td>\n",
       "      <td>0</td>\n",
       "      <td>0</td>\n",
       "      <td>0</td>\n",
       "    </tr>\n",
       "    <tr>\n",
       "      <th>2</th>\n",
       "      <td>0</td>\n",
       "      <td>1</td>\n",
       "      <td>0</td>\n",
       "      <td>0</td>\n",
       "      <td>0</td>\n",
       "      <td>0</td>\n",
       "      <td>0</td>\n",
       "      <td>0</td>\n",
       "      <td>0</td>\n",
       "      <td>0</td>\n",
       "      <td>...</td>\n",
       "      <td>0</td>\n",
       "      <td>0</td>\n",
       "      <td>0</td>\n",
       "      <td>0</td>\n",
       "      <td>0</td>\n",
       "      <td>0</td>\n",
       "      <td>0</td>\n",
       "      <td>0</td>\n",
       "      <td>0</td>\n",
       "      <td>0</td>\n",
       "    </tr>\n",
       "    <tr>\n",
       "      <th>3</th>\n",
       "      <td>0</td>\n",
       "      <td>2</td>\n",
       "      <td>0</td>\n",
       "      <td>0</td>\n",
       "      <td>0</td>\n",
       "      <td>0</td>\n",
       "      <td>0</td>\n",
       "      <td>0</td>\n",
       "      <td>0</td>\n",
       "      <td>0</td>\n",
       "      <td>...</td>\n",
       "      <td>0</td>\n",
       "      <td>0</td>\n",
       "      <td>0</td>\n",
       "      <td>0</td>\n",
       "      <td>0</td>\n",
       "      <td>0</td>\n",
       "      <td>0</td>\n",
       "      <td>0</td>\n",
       "      <td>0</td>\n",
       "      <td>0</td>\n",
       "    </tr>\n",
       "    <tr>\n",
       "      <th>4</th>\n",
       "      <td>0</td>\n",
       "      <td>0</td>\n",
       "      <td>0</td>\n",
       "      <td>0</td>\n",
       "      <td>0</td>\n",
       "      <td>0</td>\n",
       "      <td>0</td>\n",
       "      <td>0</td>\n",
       "      <td>0</td>\n",
       "      <td>0</td>\n",
       "      <td>...</td>\n",
       "      <td>0</td>\n",
       "      <td>0</td>\n",
       "      <td>0</td>\n",
       "      <td>0</td>\n",
       "      <td>0</td>\n",
       "      <td>0</td>\n",
       "      <td>0</td>\n",
       "      <td>0</td>\n",
       "      <td>0</td>\n",
       "      <td>0</td>\n",
       "    </tr>\n",
       "    <tr>\n",
       "      <th>5</th>\n",
       "      <td>0</td>\n",
       "      <td>0</td>\n",
       "      <td>0</td>\n",
       "      <td>0</td>\n",
       "      <td>0</td>\n",
       "      <td>0</td>\n",
       "      <td>0</td>\n",
       "      <td>0</td>\n",
       "      <td>0</td>\n",
       "      <td>0</td>\n",
       "      <td>...</td>\n",
       "      <td>0</td>\n",
       "      <td>0</td>\n",
       "      <td>0</td>\n",
       "      <td>0</td>\n",
       "      <td>0</td>\n",
       "      <td>0</td>\n",
       "      <td>0</td>\n",
       "      <td>0</td>\n",
       "      <td>0</td>\n",
       "      <td>0</td>\n",
       "    </tr>\n",
       "    <tr>\n",
       "      <th>6</th>\n",
       "      <td>0</td>\n",
       "      <td>0</td>\n",
       "      <td>0</td>\n",
       "      <td>0</td>\n",
       "      <td>0</td>\n",
       "      <td>0</td>\n",
       "      <td>0</td>\n",
       "      <td>0</td>\n",
       "      <td>0</td>\n",
       "      <td>0</td>\n",
       "      <td>...</td>\n",
       "      <td>0</td>\n",
       "      <td>0</td>\n",
       "      <td>0</td>\n",
       "      <td>0</td>\n",
       "      <td>0</td>\n",
       "      <td>0</td>\n",
       "      <td>0</td>\n",
       "      <td>0</td>\n",
       "      <td>0</td>\n",
       "      <td>0</td>\n",
       "    </tr>\n",
       "    <tr>\n",
       "      <th>7</th>\n",
       "      <td>0</td>\n",
       "      <td>0</td>\n",
       "      <td>0</td>\n",
       "      <td>0</td>\n",
       "      <td>0</td>\n",
       "      <td>0</td>\n",
       "      <td>0</td>\n",
       "      <td>0</td>\n",
       "      <td>0</td>\n",
       "      <td>0</td>\n",
       "      <td>...</td>\n",
       "      <td>0</td>\n",
       "      <td>0</td>\n",
       "      <td>0</td>\n",
       "      <td>0</td>\n",
       "      <td>0</td>\n",
       "      <td>0</td>\n",
       "      <td>0</td>\n",
       "      <td>0</td>\n",
       "      <td>0</td>\n",
       "      <td>0</td>\n",
       "    </tr>\n",
       "    <tr>\n",
       "      <th>8</th>\n",
       "      <td>0</td>\n",
       "      <td>0</td>\n",
       "      <td>0</td>\n",
       "      <td>0</td>\n",
       "      <td>0</td>\n",
       "      <td>0</td>\n",
       "      <td>0</td>\n",
       "      <td>0</td>\n",
       "      <td>0</td>\n",
       "      <td>0</td>\n",
       "      <td>...</td>\n",
       "      <td>0</td>\n",
       "      <td>0</td>\n",
       "      <td>0</td>\n",
       "      <td>0</td>\n",
       "      <td>0</td>\n",
       "      <td>0</td>\n",
       "      <td>0</td>\n",
       "      <td>0</td>\n",
       "      <td>0</td>\n",
       "      <td>0</td>\n",
       "    </tr>\n",
       "    <tr>\n",
       "      <th>9</th>\n",
       "      <td>0</td>\n",
       "      <td>0</td>\n",
       "      <td>0</td>\n",
       "      <td>0</td>\n",
       "      <td>0</td>\n",
       "      <td>0</td>\n",
       "      <td>0</td>\n",
       "      <td>0</td>\n",
       "      <td>0</td>\n",
       "      <td>0</td>\n",
       "      <td>...</td>\n",
       "      <td>0</td>\n",
       "      <td>0</td>\n",
       "      <td>0</td>\n",
       "      <td>0</td>\n",
       "      <td>0</td>\n",
       "      <td>0</td>\n",
       "      <td>0</td>\n",
       "      <td>0</td>\n",
       "      <td>0</td>\n",
       "      <td>0</td>\n",
       "    </tr>\n",
       "  </tbody>\n",
       "</table>\n",
       "<p>10 rows × 65844 columns</p>\n",
       "</div>"
      ],
      "text/plain": [
       "   00  000  0000  000th  001  002  0023  003  004  005 ...  zuzu  zverev  zvi  \\\n",
       "0   0    0     0      0    0    0     0    0    0    0 ...     0       0    0   \n",
       "1   0    0     0      0    0    0     0    0    0    0 ...     0       0    0   \n",
       "2   0    1     0      0    0    0     0    0    0    0 ...     0       0    0   \n",
       "3   0    2     0      0    0    0     0    0    0    0 ...     0       0    0   \n",
       "4   0    0     0      0    0    0     0    0    0    0 ...     0       0    0   \n",
       "5   0    0     0      0    0    0     0    0    0    0 ...     0       0    0   \n",
       "6   0    0     0      0    0    0     0    0    0    0 ...     0       0    0   \n",
       "7   0    0     0      0    0    0     0    0    0    0 ...     0       0    0   \n",
       "8   0    0     0      0    0    0     0    0    0    0 ...     0       0    0   \n",
       "9   0    0     0      0    0    0     0    0    0    0 ...     0       0    0   \n",
       "\n",
       "   zweig  zwick  zwierlein  zwilling  zx  zygote  zz  \n",
       "0      0      0          0         0   0       0   0  \n",
       "1      0      0          0         0   0       0   0  \n",
       "2      0      0          0         0   0       0   0  \n",
       "3      0      0          0         0   0       0   0  \n",
       "4      0      0          0         0   0       0   0  \n",
       "5      0      0          0         0   0       0   0  \n",
       "6      0      0          0         0   0       0   0  \n",
       "7      0      0          0         0   0       0   0  \n",
       "8      0      0          0         0   0       0   0  \n",
       "9      0      0          0         0   0       0   0  \n",
       "\n",
       "[10 rows x 65844 columns]"
      ]
     },
     "execution_count": 45,
     "metadata": {},
     "output_type": "execute_result"
    }
   ],
   "source": [
    "# glance at the sparse matrix\n",
    "pd.DataFrame(word_freq[0:10].toarray(), columns=countvec.get_feature_names())"
   ]
  },
  {
   "cell_type": "markdown",
   "metadata": {},
   "source": [
    "###### 2.2 TF-IDF for topic selection"
   ]
  },
  {
   "cell_type": "code",
   "execution_count": 51,
   "metadata": {
    "collapsed": true
   },
   "outputs": [],
   "source": [
    "# from sparse word frequency, calculate the tf-idf matrix\n",
    "tfidf = tfidfvec.fit_transform(word_freq)"
   ]
  },
  {
   "cell_type": "code",
   "execution_count": 54,
   "metadata": {
    "collapsed": false
   },
   "outputs": [],
   "source": [
    "# get the entries with value in the sparse matrix\n",
    "entries = tfidf.tolil().rows"
   ]
  },
  {
   "cell_type": "code",
   "execution_count": 70,
   "metadata": {
    "collapsed": false
   },
   "outputs": [
    {
     "data": {
      "text/html": [
       "<div>\n",
       "<style>\n",
       "    .dataframe thead tr:only-child th {\n",
       "        text-align: right;\n",
       "    }\n",
       "\n",
       "    .dataframe thead th {\n",
       "        text-align: left;\n",
       "    }\n",
       "\n",
       "    .dataframe tbody tr th {\n",
       "        vertical-align: top;\n",
       "    }\n",
       "</style>\n",
       "<table border=\"1\" class=\"dataframe\">\n",
       "  <thead>\n",
       "    <tr style=\"text-align: right;\">\n",
       "      <th></th>\n",
       "      <th>0</th>\n",
       "    </tr>\n",
       "  </thead>\n",
       "  <tbody>\n",
       "    <tr>\n",
       "      <th>359</th>\n",
       "      <td>15</td>\n",
       "    </tr>\n",
       "    <tr>\n",
       "      <th>1109</th>\n",
       "      <td>30</td>\n",
       "    </tr>\n",
       "    <tr>\n",
       "      <th>3354</th>\n",
       "      <td>airing</td>\n",
       "    </tr>\n",
       "    <tr>\n",
       "      <th>4627</th>\n",
       "      <td>ap</td>\n",
       "    </tr>\n",
       "    <tr>\n",
       "      <th>5203</th>\n",
       "      <td>article</td>\n",
       "    </tr>\n",
       "    <tr>\n",
       "      <th>7081</th>\n",
       "      <td>beauty</td>\n",
       "    </tr>\n",
       "    <tr>\n",
       "      <th>9095</th>\n",
       "      <td>brag</td>\n",
       "    </tr>\n",
       "    <tr>\n",
       "      <th>9179</th>\n",
       "      <td>brash</td>\n",
       "    </tr>\n",
       "    <tr>\n",
       "      <th>10092</th>\n",
       "      <td>businessman</td>\n",
       "    </tr>\n",
       "    <tr>\n",
       "      <th>10499</th>\n",
       "      <td>campaign</td>\n",
       "    </tr>\n",
       "  </tbody>\n",
       "</table>\n",
       "</div>"
      ],
      "text/plain": [
       "                 0\n",
       "359             15\n",
       "1109            30\n",
       "3354        airing\n",
       "4627            ap\n",
       "5203       article\n",
       "7081        beauty\n",
       "9095          brag\n",
       "9179         brash\n",
       "10092  businessman\n",
       "10499     campaign"
      ]
     },
     "execution_count": 70,
     "metadata": {},
     "output_type": "execute_result"
    }
   ],
   "source": [
    "# show the keywords of the first docoment\n",
    "pd.DataFrame(features).iloc[entries[0]].head(10)"
   ]
  },
  {
   "cell_type": "code",
   "execution_count": 158,
   "metadata": {
    "collapsed": false
   },
   "outputs": [],
   "source": [
    "# record the keyword index for each document\n",
    "tfidf_matrix = [[(entries[doc][i], tfidf[doc].toarray()[0][entries[doc][i]]) for i in range(len(entries[doc]))] for doc in range(num_doc)]"
   ]
  },
  {
   "cell_type": "code",
   "execution_count": 162,
   "metadata": {
    "collapsed": false
   },
   "outputs": [],
   "source": [
    "# save the matrix to pickle\n",
    "with open('tfidf.pickle', 'wb') as f:\n",
    "    pickle.dump(tfidf_matrix, f)"
   ]
  },
  {
   "cell_type": "code",
   "execution_count": 75,
   "metadata": {
    "collapsed": false
   },
   "outputs": [],
   "source": [
    "# load the pickle to tfidf-matrix\n",
    "with open('tfidf.pickle', 'rb') as w:\n",
    "    tfidf_matrix = pickle.load(w)"
   ]
  },
  {
   "cell_type": "code",
   "execution_count": 620,
   "metadata": {
    "collapsed": false
   },
   "outputs": [],
   "source": [
    "# choose top 5 as the keywords of the news\n",
    "tfidf_top5 = [sorted(tfidf_matrix[i], key=lambda x: x[1], reverse=True)[:5] for i in range(num_doc)]"
   ]
  },
  {
   "cell_type": "code",
   "execution_count": 609,
   "metadata": {
    "collapsed": false
   },
   "outputs": [],
   "source": [
    "tfidf_top5_name = [[(features[x[0]], x[1]) for x in tfidf_top5[i]] for i in range(num_doc)]"
   ]
  },
  {
   "cell_type": "code",
   "execution_count": 610,
   "metadata": {
    "collapsed": false
   },
   "outputs": [],
   "source": [
    "# convert to pandas DataFrame\n",
    "tfidf_top5_pd = pd.DataFrame(tfidf_top5_name, index=ind_list)\n",
    "tfidf_top5_pd.index.name = 'Id'"
   ]
  },
  {
   "cell_type": "code",
   "execution_count": 612,
   "metadata": {
    "collapsed": false
   },
   "outputs": [
    {
     "data": {
      "text/html": [
       "<div>\n",
       "<style>\n",
       "    .dataframe thead tr:only-child th {\n",
       "        text-align: right;\n",
       "    }\n",
       "\n",
       "    .dataframe thead th {\n",
       "        text-align: left;\n",
       "    }\n",
       "\n",
       "    .dataframe tbody tr th {\n",
       "        vertical-align: top;\n",
       "    }\n",
       "</style>\n",
       "<table border=\"1\" class=\"dataframe\">\n",
       "  <thead>\n",
       "    <tr style=\"text-align: right;\">\n",
       "      <th></th>\n",
       "      <th>0</th>\n",
       "      <th>1</th>\n",
       "      <th>2</th>\n",
       "      <th>3</th>\n",
       "      <th>4</th>\n",
       "    </tr>\n",
       "    <tr>\n",
       "      <th>Id</th>\n",
       "      <th></th>\n",
       "      <th></th>\n",
       "      <th></th>\n",
       "      <th></th>\n",
       "      <th></th>\n",
       "    </tr>\n",
       "  </thead>\n",
       "  <tbody>\n",
       "    <tr>\n",
       "      <th>14637197</th>\n",
       "      <td>(article, 0.3231129513690259)</td>\n",
       "      <td>(entirety, 0.2510290164608949)</td>\n",
       "      <td>(online, 0.24465264706847722)</td>\n",
       "      <td>(need, 0.2234580095033969)</td>\n",
       "      <td>(subscription, 0.2170400061690015)</td>\n",
       "    </tr>\n",
       "    <tr>\n",
       "      <th>14637200</th>\n",
       "      <td>(toledo, 0.5006275298991661)</td>\n",
       "      <td>(byu, 0.2251267442257118)</td>\n",
       "      <td>(mack, 0.20236457207395567)</td>\n",
       "      <td>(woodside, 0.1817846776596635)</td>\n",
       "      <td>(game, 0.1708867364649886)</td>\n",
       "    </tr>\n",
       "    <tr>\n",
       "      <th>14637201</th>\n",
       "      <td>(cahuenga, 0.3443785000085918)</td>\n",
       "      <td>(hollywood, 0.3316018473377978)</td>\n",
       "      <td>(hotel, 0.24975932711993432)</td>\n",
       "      <td>(project, 0.19498070640999493)</td>\n",
       "      <td>(parking, 0.18095834624622986)</td>\n",
       "    </tr>\n",
       "    <tr>\n",
       "      <th>14637202</th>\n",
       "      <td>(river, 0.43741932617450596)</td>\n",
       "      <td>(whitefish, 0.41041669203250136)</td>\n",
       "      <td>(yellowstone, 0.35392258902672885)</td>\n",
       "      <td>(fish, 0.28701407869412077)</td>\n",
       "      <td>(biologist, 0.19724807594786847)</td>\n",
       "    </tr>\n",
       "    <tr>\n",
       "      <th>14637203</th>\n",
       "      <td>(punitive, 0.3455224429347211)</td>\n",
       "      <td>(newsgathering, 0.2737209523650647)</td>\n",
       "      <td>(motorcyclist, 0.2466180682188501)</td>\n",
       "      <td>(claim, 0.22002071797655545)</td>\n",
       "      <td>(erase, 0.2046431001293423)</td>\n",
       "    </tr>\n",
       "  </tbody>\n",
       "</table>\n",
       "</div>"
      ],
      "text/plain": [
       "                                       0                                    1  \\\n",
       "Id                                                                              \n",
       "14637197   (article, 0.3231129513690259)       (entirety, 0.2510290164608949)   \n",
       "14637200    (toledo, 0.5006275298991661)            (byu, 0.2251267442257118)   \n",
       "14637201  (cahuenga, 0.3443785000085918)      (hollywood, 0.3316018473377978)   \n",
       "14637202    (river, 0.43741932617450596)     (whitefish, 0.41041669203250136)   \n",
       "14637203  (punitive, 0.3455224429347211)  (newsgathering, 0.2737209523650647)   \n",
       "\n",
       "                                           2                               3  \\\n",
       "Id                                                                             \n",
       "14637197       (online, 0.24465264706847722)      (need, 0.2234580095033969)   \n",
       "14637200         (mack, 0.20236457207395567)  (woodside, 0.1817846776596635)   \n",
       "14637201        (hotel, 0.24975932711993432)  (project, 0.19498070640999493)   \n",
       "14637202  (yellowstone, 0.35392258902672885)     (fish, 0.28701407869412077)   \n",
       "14637203  (motorcyclist, 0.2466180682188501)    (claim, 0.22002071797655545)   \n",
       "\n",
       "                                           4  \n",
       "Id                                            \n",
       "14637197  (subscription, 0.2170400061690015)  \n",
       "14637200          (game, 0.1708867364649886)  \n",
       "14637201      (parking, 0.18095834624622986)  \n",
       "14637202    (biologist, 0.19724807594786847)  \n",
       "14637203         (erase, 0.2046431001293423)  "
      ]
     },
     "execution_count": 612,
     "metadata": {},
     "output_type": "execute_result"
    }
   ],
   "source": [
    "# show the tfidf\n",
    "tfidf_top5_pd.head()"
   ]
  },
  {
   "cell_type": "code",
   "execution_count": 613,
   "metadata": {
    "collapsed": true
   },
   "outputs": [],
   "source": [
    "# get the all repeated keywords\n",
    "tfidf_top5_Nameset = [x[0] for i in range(num_doc) for x in tfidf_top5_name[i]]"
   ]
  },
  {
   "cell_type": "code",
   "execution_count": 622,
   "metadata": {
    "collapsed": false
   },
   "outputs": [],
   "source": [
    "# get the keyword list for each documents\n",
    "tfidf_top5_key = [[x[0] for x in tfidf_top5_name[i]] for i in range(num_doc)]"
   ]
  },
  {
   "cell_type": "markdown",
   "metadata": {},
   "source": [
    "##### 2.3 Topic Selection"
   ]
  },
  {
   "cell_type": "code",
   "execution_count": 615,
   "metadata": {
    "collapsed": true
   },
   "outputs": [],
   "source": [
    "# get the frequency of each keywords\n",
    "cnt = Counter(tfidf_top5_Nameset)"
   ]
  },
  {
   "cell_type": "code",
   "execution_count": 616,
   "metadata": {
    "collapsed": false
   },
   "outputs": [],
   "source": [
    "# switch the frequency dictionary to DataFrame\n",
    "key_words_pd = pd.DataFrame(pd.Series(dict(cnt)), columns=['Frequency'])"
   ]
  },
  {
   "cell_type": "code",
   "execution_count": 617,
   "metadata": {
    "collapsed": false
   },
   "outputs": [],
   "source": [
    "# select the top 20 highly-frequent keywords\n",
    "key_words_top20 = key_words_pd.sort_values(by='Frequency', ascending=False).iloc[:20]\n",
    "key_words_top20.index.name = 'Keywords'"
   ]
  },
  {
   "cell_type": "code",
   "execution_count": 625,
   "metadata": {
    "collapsed": false
   },
   "outputs": [
    {
     "data": {
      "text/html": [
       "<div>\n",
       "<style>\n",
       "    .dataframe thead tr:only-child th {\n",
       "        text-align: right;\n",
       "    }\n",
       "\n",
       "    .dataframe thead th {\n",
       "        text-align: left;\n",
       "    }\n",
       "\n",
       "    .dataframe tbody tr th {\n",
       "        vertical-align: top;\n",
       "    }\n",
       "</style>\n",
       "<table border=\"1\" class=\"dataframe\">\n",
       "  <thead>\n",
       "    <tr style=\"text-align: right;\">\n",
       "      <th></th>\n",
       "      <th>Frequency</th>\n",
       "    </tr>\n",
       "    <tr>\n",
       "      <th>Keywords</th>\n",
       "      <th></th>\n",
       "    </tr>\n",
       "  </thead>\n",
       "  <tbody>\n",
       "    <tr>\n",
       "      <th>trump</th>\n",
       "      <td>994</td>\n",
       "    </tr>\n",
       "    <tr>\n",
       "      <th>clinton</th>\n",
       "      <td>453</td>\n",
       "    </tr>\n",
       "    <tr>\n",
       "      <th>game</th>\n",
       "      <td>432</td>\n",
       "    </tr>\n",
       "    <tr>\n",
       "      <th>police</th>\n",
       "      <td>396</td>\n",
       "    </tr>\n",
       "    <tr>\n",
       "      <th>say</th>\n",
       "      <td>274</td>\n",
       "    </tr>\n",
       "  </tbody>\n",
       "</table>\n",
       "</div>"
      ],
      "text/plain": [
       "          Frequency\n",
       "Keywords           \n",
       "trump           994\n",
       "clinton         453\n",
       "game            432\n",
       "police          396\n",
       "say             274"
      ]
     },
     "execution_count": 625,
     "metadata": {},
     "output_type": "execute_result"
    }
   ],
   "source": [
    "# show top 20 frequent keywords\n",
    "key_words_top20.head()"
   ]
  },
  {
   "cell_type": "code",
   "execution_count": 618,
   "metadata": {
    "collapsed": false,
    "scrolled": false
   },
   "outputs": [
    {
     "data": {
      "image/png": "[encoded data removed]",
      "text/plain": [
       "<matplotlib.figure.Figure at 0x7fd4bb9864a8>"
      ]
     },
     "metadata": {},
     "output_type": "display_data"
    }
   ],
   "source": [
    "# plot the bar chart to illustrate the top-20 keywords\n",
    "key_words_top20.plot(kind='bar')\n",
    "plt.title('Key words frequency in October in 2016')\n",
    "plt.ylabel('Frequency')\n",
    "plt.xlabel('Keywords')\n",
    "plt.show()"
   ]
  },
  {
   "cell_type": "markdown",
   "metadata": {},
   "source": [
    "### Discovery:\n",
    "After our tfidf analysis, we could find out that in the month rightly before American Precidental Election held on 8th November 2016, many pieces of news are highly related to the presidential election.\n",
    "\n",
    "Later, we chose 'trump' as the selected topic to further dig up the media polarity considering time variance."
   ]
  },
  {
   "cell_type": "code",
   "execution_count": 626,
   "metadata": {
    "collapsed": true
   },
   "outputs": [],
   "source": [
    "# get the news id whose keywords contains 'trump'\n",
    "trump_list = [ind_list[i] for i in range(num_doc) if 'trump' in tfidf_top5_key[i]]"
   ]
  },
  {
   "cell_type": "code",
   "execution_count": 216,
   "metadata": {
    "collapsed": true
   },
   "outputs": [],
   "source": [
    "# save the news list in pickle\n",
    "with open('trump_list.pickle', 'wb') as w:\n",
    "    pickle.dump(trump_list, w)"
   ]
  },
  {
   "cell_type": "markdown",
   "metadata": {},
   "source": [
    "### Part3: Get Original Data from Website"
   ]
  },
  {
   "cell_type": "markdown",
   "metadata": {},
   "source": [
    "Considering some missing original text in our data, we further applied the methodology of web crawling from the websites provided in our dataset. We will developed more application this part in the future."
   ]
  },
  {
   "cell_type": "code",
   "execution_count": 627,
   "metadata": {
    "collapsed": true
   },
   "outputs": [],
   "source": [
    "# remove the extra space and tag (such as <p>) in the raw text\n",
    "tags_re = re.compile(r'(\\<.*\\>|\\s+)')"
   ]
  },
  {
   "cell_type": "code",
   "execution_count": 642,
   "metadata": {
    "collapsed": false
   },
   "outputs": [],
   "source": [
    "def HTMLGetandParser(url):\n",
    "    \"\"\"\n",
    "        Aimed to get the information based URL, and parse and select the data according to HTML\n",
    "        input: url\n",
    "        output: txt\n",
    "    \"\"\"\n",
    "    r = requests.get(url)\n",
    "    soup = BeautifulSoup(r.text, 'html.parser')\n",
    "    paragraph = soup.p\n",
    "    txt = ''\n",
    "    \n",
    "    while paragraph:\n",
    "        txt += (tags_re.sub(' ', str(paragraph)) if len(str(paragraph)) > 100 else '')\n",
    "        paragraph = paragraph.next\n",
    "    return txt"
   ]
  },
  {
   "cell_type": "code",
   "execution_count": 643,
   "metadata": {
    "collapsed": false
   },
   "outputs": [],
   "source": [
    "web_pd = data_US_16_10_sorted.iloc[:100]['website'].apply(lambda url: HTMLGetandParser(url))"
   ]
  },
  {
   "cell_type": "code",
   "execution_count": 644,
   "metadata": {
    "collapsed": false
   },
   "outputs": [
    {
     "data": {
      "text/plain": [
       "304572     Cloudy with occasional showers overnight. Low...\n",
       "304573      Play Now   Play Now              Play Now   ...\n",
       "304574     We use cookies and other tracking technologie...\n",
       "304575        #weather-1273331 .list-unstyled { margin:0...\n",
       "304576     Your user agent has been blocked from this si...\n",
       "Name: website, dtype: object"
      ]
     },
     "execution_count": 644,
     "metadata": {},
     "output_type": "execute_result"
    }
   ],
   "source": [
    "# show web pd\n",
    "web_pd.head()"
   ]
  },
  {
   "cell_type": "markdown",
   "metadata": {},
   "source": [
    "### Part4: Conduct Sentimental Analysis"
   ]
  },
  {
   "cell_type": "markdown",
   "metadata": {},
   "source": [
    "##### 4.1 Helper functions"
   ]
  },
  {
   "cell_type": "code",
   "execution_count": 366,
   "metadata": {
    "collapsed": true
   },
   "outputs": [],
   "source": [
    "def sentiment_TextBlob(text,pos_threshold = 0.3,neg_threshold = -0.3):\n",
    "    \"\"\"\n",
    "    Get polarity of text by mean of polarity of each sentence\n",
    "    Since most sentences convey nothing in an article, we decide to eliminate neutral sentence\n",
    "    and only take polar sentence into account\n",
    "    If there is no polar sentence in an article, return 0\n",
    "    Params: text: str\n",
    "            pos_threshold: float\n",
    "            neg_threshold: float\n",
    "    \"\"\"\n",
    "    # Get blob\n",
    "    blob = TextBlob(text)\n",
    "    \n",
    "    # Get sentence objs\n",
    "    sentences = blob.sentences\n",
    "    \n",
    "    # Get sentence polarity\n",
    "    polarity = list(map(lambda x: 1 if x.sentiment[0] > pos_threshold \\\n",
    "                                    else (-1 if x.sentiment[0] < neg_threshold \\\n",
    "                                             else 0),\n",
    "                      sentences))\n",
    "    \n",
    "    # Calculate article polarity\n",
    "    polarity = np.array(polarity)\n",
    "    if np.all(np.unique(polarity) == 0):\n",
    "        return 0\n",
    "    \n",
    "    return np.sum(polarity) / np.sum(polarity != 0)"
   ]
  },
  {
   "cell_type": "code",
   "execution_count": 367,
   "metadata": {
    "collapsed": true
   },
   "outputs": [],
   "source": [
    "def sentiment_nltk(text,pos_threshold = 0.3,neg_threshold = -0.3):\n",
    "    '''\n",
    "    Get polarity of article using nltk\n",
    "    Params: text: str\n",
    "            pos_threshold: float\n",
    "            neg_threshold: float\n",
    "    Return: polarity\n",
    "    '''\n",
    "    \n",
    "    # Get sentences\n",
    "    sentences=nltk.sent_tokenize(text)\n",
    "    \n",
    "    # Get polarity analyzer\n",
    "    sid = SentimentIntensityAnalyzer()\n",
    "\n",
    "    # Calculate scores and polarity of sentences\n",
    "    scores = list(map(lambda x: sid.polarity_scores(x)['compound'], sentences))\n",
    "    polarity = list(map(lambda x: 1 if x > pos_threshold \\\n",
    "                                       else (-1 if x < neg_threshold \\\n",
    "                                            else 0),\n",
    "                       scores))\n",
    "\n",
    "    # Calculate article polarity\n",
    "    polarity = np.array(polarity)\n",
    "    if np.all(np.unique(polarity) == [0]):\n",
    "        return 0\n",
    "    \n",
    "    return np.sum(polarity) / np.sum(polarity != 0)"
   ]
  },
  {
   "cell_type": "code",
   "execution_count": 368,
   "metadata": {
    "collapsed": true
   },
   "outputs": [],
   "source": [
    "def find_polarity_tags(articles):\n",
    "    '''\n",
    "    Return polarity for articles using mean of nltk and textblob\n",
    "    Params: articles: Array(str)\n",
    "    Return: tags\n",
    "    '''\n",
    "    \n",
    "    polarity_articles = list(map(lambda x: np.mean([sentiment_TextBlob(x),\n",
    "                                                   sentiment_nltk(x)]),\n",
    "                               articles))\n",
    "    \n",
    "    return polarity_articles\n"
   ]
  },
  {
   "cell_type": "markdown",
   "metadata": {},
   "source": [
    "##### 4.2 Explore on Media Polarity about 'trump' on October 2016"
   ]
  },
  {
   "cell_type": "code",
   "execution_count": 280,
   "metadata": {
    "collapsed": true
   },
   "outputs": [],
   "source": [
    "# Obtain list of index of news with keyword Trump\n",
    "Trump_list=pd.read_pickle('trump_list.pickle')"
   ]
  },
  {
   "cell_type": "code",
   "execution_count": 284,
   "metadata": {
    "collapsed": true
   },
   "outputs": [],
   "source": [
    "# Obtain dataframe of news with keyword Trump\n",
    "mask = data_US_16_10['id'].isin(Trump_list)\n",
    "data_Trump = data_US_16_10_sorted.loc[mask]"
   ]
  },
  {
   "cell_type": "code",
   "execution_count": 435,
   "metadata": {
    "collapsed": false
   },
   "outputs": [],
   "source": [
    "# Convert index of txt_pd to int type\n",
    "txt_pd.index = txt_pd.index.astype(int)"
   ]
  },
  {
   "cell_type": "code",
   "execution_count": 307,
   "metadata": {
    "collapsed": false
   },
   "outputs": [],
   "source": [
    "# Get news focus on Trump by merging the related ids with news df\n",
    "Trump_news_16_10 = data_Trump.merge(txt_pd, left_on='id', right_index = True)"
   ]
  },
  {
   "cell_type": "code",
   "execution_count": 439,
   "metadata": {
    "collapsed": false,
    "scrolled": false
   },
   "outputs": [
    {
     "data": {
      "text/html": [
       "<div>\n",
       "<style>\n",
       "    .dataframe thead tr:only-child th {\n",
       "        text-align: right;\n",
       "    }\n",
       "\n",
       "    .dataframe thead th {\n",
       "        text-align: left;\n",
       "    }\n",
       "\n",
       "    .dataframe tbody tr th {\n",
       "        vertical-align: top;\n",
       "    }\n",
       "</style>\n",
       "<table border=\"1\" class=\"dataframe\">\n",
       "  <thead>\n",
       "    <tr style=\"text-align: right;\">\n",
       "      <th></th>\n",
       "      <th>id</th>\n",
       "      <th>unknown</th>\n",
       "      <th>date</th>\n",
       "      <th>country</th>\n",
       "      <th>media</th>\n",
       "      <th>website</th>\n",
       "      <th>title</th>\n",
       "      <th>year</th>\n",
       "      <th>month</th>\n",
       "      <th>day</th>\n",
       "      <th>index</th>\n",
       "      <th>txt</th>\n",
       "      <th>index_str</th>\n",
       "      <th>index_int</th>\n",
       "      <th>tag</th>\n",
       "    </tr>\n",
       "  </thead>\n",
       "  <tbody>\n",
       "    <tr>\n",
       "      <th>0</th>\n",
       "      <td>14642538</td>\n",
       "      <td>887</td>\n",
       "      <td>16-10-01</td>\n",
       "      <td>US</td>\n",
       "      <td>The State</td>\n",
       "      <td>http://www.thestate.com/news/politics-governme...</td>\n",
       "      <td>Horry County voters reflect frustration of Tru...</td>\n",
       "      <td>16</td>\n",
       "      <td>10</td>\n",
       "      <td>01</td>\n",
       "      <td>14642538</td>\n",
       "      <td>Lucy Cesar-Jedacek walked into the Horry Cou...</td>\n",
       "      <td>14642538</td>\n",
       "      <td>14642538</td>\n",
       "      <td>0.536797</td>\n",
       "    </tr>\n",
       "    <tr>\n",
       "      <th>1</th>\n",
       "      <td>14645950</td>\n",
       "      <td>266</td>\n",
       "      <td>16-10-01</td>\n",
       "      <td>US</td>\n",
       "      <td>Entertainment Weekly</td>\n",
       "      <td>http://www.ew.com/article/2016/10/01/art-deal-...</td>\n",
       "      <td>The Art of the Deal ghostwriter claims Donald ...</td>\n",
       "      <td>16</td>\n",
       "      <td>10</td>\n",
       "      <td>01</td>\n",
       "      <td>14645950</td>\n",
       "      <td>See also  Tony Schwartz , the ghostwriter wh...</td>\n",
       "      <td>14645950</td>\n",
       "      <td>14645950</td>\n",
       "      <td>-0.166667</td>\n",
       "    </tr>\n",
       "    <tr>\n",
       "      <th>2</th>\n",
       "      <td>14645980</td>\n",
       "      <td>833</td>\n",
       "      <td>16-10-01</td>\n",
       "      <td>US</td>\n",
       "      <td>The Seattle Times</td>\n",
       "      <td>http://www.seattletimes.com/opinion/the-death-...</td>\n",
       "      <td>The death of idealism</td>\n",
       "      <td>16</td>\n",
       "      <td>10</td>\n",
       "      <td>01</td>\n",
       "      <td>14645980</td>\n",
       "      <td>The death of idealism  Share story  This pre...</td>\n",
       "      <td>14645980</td>\n",
       "      <td>14645980</td>\n",
       "      <td>0.520690</td>\n",
       "    </tr>\n",
       "    <tr>\n",
       "      <th>3</th>\n",
       "      <td>14645984</td>\n",
       "      <td>4345</td>\n",
       "      <td>16-10-01</td>\n",
       "      <td>US</td>\n",
       "      <td>Outside the Beltway</td>\n",
       "      <td>http://www.outsidethebeltway.com/on-the-potent...</td>\n",
       "      <td>On the Potential Global Consequences of a Trum...</td>\n",
       "      <td>16</td>\n",
       "      <td>10</td>\n",
       "      <td>01</td>\n",
       "      <td>14645984</td>\n",
       "      <td>On the Potential Global Consequences of a Tr...</td>\n",
       "      <td>14645984</td>\n",
       "      <td>14645984</td>\n",
       "      <td>0.041190</td>\n",
       "    </tr>\n",
       "    <tr>\n",
       "      <th>4</th>\n",
       "      <td>14647956</td>\n",
       "      <td>4657</td>\n",
       "      <td>16-10-01</td>\n",
       "      <td>US</td>\n",
       "      <td>Chicago Tribune</td>\n",
       "      <td>http://www.chicagotribune.com/news/nationworld...</td>\n",
       "      <td>The journey of a Trump true believer: 'Finally...</td>\n",
       "      <td>16</td>\n",
       "      <td>10</td>\n",
       "      <td>01</td>\n",
       "      <td>14647956</td>\n",
       "      <td>The journey of a Trump true believer : ' Fin...</td>\n",
       "      <td>14647956</td>\n",
       "      <td>14647956</td>\n",
       "      <td>0.318484</td>\n",
       "    </tr>\n",
       "  </tbody>\n",
       "</table>\n",
       "</div>"
      ],
      "text/plain": [
       "         id  unknown      date country                 media  \\\n",
       "0  14642538      887  16-10-01      US             The State   \n",
       "1  14645950      266  16-10-01      US  Entertainment Weekly   \n",
       "2  14645980      833  16-10-01      US     The Seattle Times   \n",
       "3  14645984     4345  16-10-01      US   Outside the Beltway   \n",
       "4  14647956     4657  16-10-01      US       Chicago Tribune   \n",
       "\n",
       "                                             website  \\\n",
       "0  http://www.thestate.com/news/politics-governme...   \n",
       "1  http://www.ew.com/article/2016/10/01/art-deal-...   \n",
       "2  http://www.seattletimes.com/opinion/the-death-...   \n",
       "3  http://www.outsidethebeltway.com/on-the-potent...   \n",
       "4  http://www.chicagotribune.com/news/nationworld...   \n",
       "\n",
       "                                               title year month day     index  \\\n",
       "0  Horry County voters reflect frustration of Tru...   16    10  01  14642538   \n",
       "1  The Art of the Deal ghostwriter claims Donald ...   16    10  01  14645950   \n",
       "2                              The death of idealism   16    10  01  14645980   \n",
       "3  On the Potential Global Consequences of a Trum...   16    10  01  14645984   \n",
       "4  The journey of a Trump true believer: 'Finally...   16    10  01  14647956   \n",
       "\n",
       "                                                 txt index_str  index_int  \\\n",
       "0    Lucy Cesar-Jedacek walked into the Horry Cou...  14642538   14642538   \n",
       "1    See also  Tony Schwartz , the ghostwriter wh...  14645950   14645950   \n",
       "2    The death of idealism  Share story  This pre...  14645980   14645980   \n",
       "3    On the Potential Global Consequences of a Tr...  14645984   14645984   \n",
       "4    The journey of a Trump true believer : ' Fin...  14647956   14647956   \n",
       "\n",
       "        tag  \n",
       "0  0.536797  \n",
       "1 -0.166667  \n",
       "2  0.520690  \n",
       "3  0.041190  \n",
       "4  0.318484  "
      ]
     },
     "execution_count": 439,
     "metadata": {},
     "output_type": "execute_result"
    }
   ],
   "source": [
    "# Show the news focused on Trump\n",
    "Trump_news_16_10.head()"
   ]
  },
  {
   "cell_type": "code",
   "execution_count": 443,
   "metadata": {
    "collapsed": false
   },
   "outputs": [],
   "source": [
    "# Find polarity of news \n",
    "Trump_news_16_10['polarity'] = find_polarity_tags(Trump_news_16_10['txt'])"
   ]
  },
  {
   "cell_type": "code",
   "execution_count": 480,
   "metadata": {
    "collapsed": false
   },
   "outputs": [
    {
     "data": {
      "image/png": "[encoded data removed]",
      "text/plain": [
       "<matplotlib.figure.Figure at 0x7fd4d2dd4c50>"
      ]
     },
     "metadata": {},
     "output_type": "display_data"
    }
   ],
   "source": [
    "# Visualize the polarity\n",
    "Trump_news_16_10['polarity'].hist(bins=30, grid=True)\n",
    "plt.title('Histogram of Mean of Media Polarity')\n",
    "plt.xlabel('Polarity')\n",
    "plt.ylabel('Number of media')\n",
    "plt.show()"
   ]
  },
  {
   "cell_type": "code",
   "execution_count": 472,
   "metadata": {
    "collapsed": false
   },
   "outputs": [],
   "source": [
    "# collect polarity of news from same media\n",
    "Trump_media = Trump_news_16_10.groupby('media')['polarity'].apply(np.array)"
   ]
  },
  {
   "cell_type": "markdown",
   "metadata": {},
   "source": [
    "It is not representative to investigate into the media that have few pieces of news about Trump. By trial and error we select 12 as a threshold for selecting representative media."
   ]
  },
  {
   "cell_type": "code",
   "execution_count": 473,
   "metadata": {
    "collapsed": false
   },
   "outputs": [],
   "source": [
    "Trump_media = Trump_media.to_frame()\n",
    "\n",
    "Trump_media_top = Trump_media[Trump_media['polarity'].apply(lambda x: len(x)) > 12].copy()"
   ]
  },
  {
   "cell_type": "markdown",
   "metadata": {},
   "source": [
    "Considering there exists the offset during sentimental analysis, we decided to normalize the data (subtract the mean of all of the polarities) in order to have a better understanding on our dataset."
   ]
  },
  {
   "cell_type": "code",
   "execution_count": 474,
   "metadata": {
    "collapsed": false
   },
   "outputs": [],
   "source": [
    "# Get universal mean of polarity of representative news\n",
    "media_count = Trump_media_top['polarity'].apply(len)\n",
    "\n",
    "media_mean = tmp['tag'].apply(np.mean)\n",
    "\n",
    "mean_polarity = np.sum(media_count * media_mean) / np.sum(media_count)"
   ]
  },
  {
   "cell_type": "code",
   "execution_count": 475,
   "metadata": {
    "collapsed": false
   },
   "outputs": [],
   "source": [
    "# Normalize the polarity\n",
    "Trump_media_top['normalized_polarity'] = Trump_media_top['polarity'] - mean_polarity"
   ]
  },
  {
   "cell_type": "code",
   "execution_count": 481,
   "metadata": {
    "collapsed": false
   },
   "outputs": [
    {
     "data": {
      "image/png": "[encoded data removed]",
      "text/plain": [
       "<matplotlib.figure.Figure at 0x7fd4a8937208>"
      ]
     },
     "metadata": {},
     "output_type": "display_data"
    }
   ],
   "source": [
    "# Visualize the polarity of media\n",
    "data = Trump_media_top['normalized_polarity'].values\n",
    "\n",
    "index = Trump_media_top.index\n",
    "\n",
    "plt.rcParams['figure.figsize'] = (20, 6)\n",
    "plt.boxplot(list(data))\n",
    "plt.xticks(np.arange(len(index)) + 1, index, rotation=45)\n",
    "plt.ylim(-1.25, 1.25)\n",
    "plt.ylabel('Polarity')\n",
    "plt.title('Polarity of news related to Donald Trump in main stream media in Oct 2016')\n",
    "plt.show()"
   ]
  },
  {
   "cell_type": "code",
   "execution_count": 482,
   "metadata": {
    "collapsed": true
   },
   "outputs": [],
   "source": [
    "# Store data for further usage\n",
    "Trump_news_16_10.to_pickle('Trump_news_16_10_polar.pickle')"
   ]
  },
  {
   "cell_type": "markdown",
   "metadata": {},
   "source": [
    "##### 4.3 Explore the time variance of media polarity"
   ]
  },
  {
   "cell_type": "markdown",
   "metadata": {},
   "source": [
    "By repeating the same manipulation scheme, we obtain the data for Aug and Sept of 2016. For simplicity, here we just load those data in and conduct analysis. The functionalities will be finely encapusulated in the next step to provide better scalability."
   ]
  },
  {
   "cell_type": "code",
   "execution_count": 498,
   "metadata": {
    "collapsed": false
   },
   "outputs": [
    {
     "data": {
      "image/png": "[encoded data removed]",
      "text/plain": [
       "<matplotlib.figure.Figure at 0x7fd4a2ec4160>"
      ]
     },
     "metadata": {},
     "output_type": "display_data"
    }
   ],
   "source": [
    "# Comparisons\n",
    "Trump_media_top_sept = pd.read_pickle('Trump_media_top_Sept.pkl')\n",
    "\n",
    "# Visualize the polarity of media in Sept\n",
    "data = Trump_media_top_sept['normalized_polarity'].values\n",
    "\n",
    "index = Trump_media_top_sept.index\n",
    "\n",
    "plt.rcParams['figure.figsize'] = (20, 6)\n",
    "plt.boxplot(list(data))\n",
    "plt.xticks(np.arange(len(index)) + 1, index, rotation=45)\n",
    "plt.ylim(-1.25, 1.25)\n",
    "plt.ylabel('Polarity')\n",
    "plt.title('Polarity of news related to Donald Trump in main stream media in Sept 2016')\n",
    "plt.show()"
   ]
  },
  {
   "cell_type": "code",
   "execution_count": 497,
   "metadata": {
    "collapsed": false
   },
   "outputs": [
    {
     "data": {
      "image/png": "[encoded data removed]",
      "text/plain": [
       "<matplotlib.figure.Figure at 0x7fd494a17208>"
      ]
     },
     "metadata": {},
     "output_type": "display_data"
    }
   ],
   "source": [
    "# Comparisons\n",
    "Trump_media_top_aug = pd.read_pickle('Trump_media_top_Aug.pkl')\n",
    "\n",
    "# Visualize the polarity of media in August\n",
    "data = Trump_media_top_aug['normalized_polarity'].values\n",
    "\n",
    "index = Trump_media_top_sept.index\n",
    "\n",
    "plt.rcParams['figure.figsize'] = (20, 6)\n",
    "plt.boxplot(list(data))\n",
    "plt.xticks(np.arange(len(index)) + 1, index, rotation=45)\n",
    "plt.ylim(-1.25, 1.25)\n",
    "plt.ylabel('Polarity')\n",
    "plt.title('Polarity of news related to Donald Trump in main stream media in August 2016')\n",
    "plt.show()"
   ]
  },
  {
   "cell_type": "code",
   "execution_count": 629,
   "metadata": {
    "collapsed": false
   },
   "outputs": [],
   "source": [
    "# Visualize the attitude change of media during three months\n",
    "\n",
    "media_intersection = set(Trump_media_top.index)\\\n",
    "                        .intersection(set(Trump_media_top_sept.index))\\\n",
    "                        .intersection(set(Trump_media_top_aug.index))"
   ]
  },
  {
   "cell_type": "markdown",
   "metadata": {},
   "source": [
    "Media that are continuosly interested in Trump over three months"
   ]
  },
  {
   "cell_type": "code",
   "execution_count": 630,
   "metadata": {
    "collapsed": false
   },
   "outputs": [],
   "source": [
    "media_intersection = pd.DataFrame(list(media_intersection))"
   ]
  },
  {
   "cell_type": "code",
   "execution_count": 631,
   "metadata": {
    "collapsed": false
   },
   "outputs": [],
   "source": [
    "media_intersection.columns = ['media']"
   ]
  },
  {
   "cell_type": "code",
   "execution_count": 632,
   "metadata": {
    "collapsed": false,
    "scrolled": true
   },
   "outputs": [
    {
     "data": {
      "text/html": [
       "<div>\n",
       "<style>\n",
       "    .dataframe thead tr:only-child th {\n",
       "        text-align: right;\n",
       "    }\n",
       "\n",
       "    .dataframe thead th {\n",
       "        text-align: left;\n",
       "    }\n",
       "\n",
       "    .dataframe tbody tr th {\n",
       "        vertical-align: top;\n",
       "    }\n",
       "</style>\n",
       "<table border=\"1\" class=\"dataframe\">\n",
       "  <thead>\n",
       "    <tr style=\"text-align: right;\">\n",
       "      <th></th>\n",
       "      <th>media</th>\n",
       "    </tr>\n",
       "  </thead>\n",
       "  <tbody>\n",
       "    <tr>\n",
       "      <th>0</th>\n",
       "      <td>TPM</td>\n",
       "    </tr>\n",
       "    <tr>\n",
       "      <th>1</th>\n",
       "      <td>Los Angeles Times</td>\n",
       "    </tr>\n",
       "    <tr>\n",
       "      <th>2</th>\n",
       "      <td>PoliticusUSA</td>\n",
       "    </tr>\n",
       "    <tr>\n",
       "      <th>3</th>\n",
       "      <td>ABC News</td>\n",
       "    </tr>\n",
       "    <tr>\n",
       "      <th>4</th>\n",
       "      <td>Politico</td>\n",
       "    </tr>\n",
       "    <tr>\n",
       "      <th>5</th>\n",
       "      <td>NBCNews.com</td>\n",
       "    </tr>\n",
       "    <tr>\n",
       "      <th>6</th>\n",
       "      <td>Washington Post</td>\n",
       "    </tr>\n",
       "  </tbody>\n",
       "</table>\n",
       "</div>"
      ],
      "text/plain": [
       "               media\n",
       "0                TPM\n",
       "1  Los Angeles Times\n",
       "2       PoliticusUSA\n",
       "3           ABC News\n",
       "4           Politico\n",
       "5        NBCNews.com\n",
       "6    Washington Post"
      ]
     },
     "execution_count": 632,
     "metadata": {},
     "output_type": "execute_result"
    }
   ],
   "source": [
    "# show median_intersection\n",
    "media_intersection"
   ]
  },
  {
   "cell_type": "code",
   "execution_count": 633,
   "metadata": {
    "collapsed": false
   },
   "outputs": [],
   "source": [
    "# Get the normalized polarity of media in intersection\n",
    "media_intersection_polarity = media_intersection.merge(Trump_media_top, left_on = 'media', right_index = True)\\\n",
    "                                                .merge(Trump_media_top_sept, left_on = 'media', right_index = True,\n",
    "                                                      suffixes = ('_Oct', '_Sept'))\\\n",
    "                                                .merge(Trump_media_top_aug, left_on = 'media', right_index = True)"
   ]
  },
  {
   "cell_type": "code",
   "execution_count": 634,
   "metadata": {
    "collapsed": false
   },
   "outputs": [],
   "source": [
    "# rename the columns to meaningful name\n",
    "media_intersection_polarity.rename(columns = dict(polarity = 'polarity_Aug',\n",
    "                                             normalized_polarity = 'normalized_polarity_Aug'), inplace = True)\n",
    "media_intersection_polarity.set_index(keys = ['media'], inplace = True)"
   ]
  },
  {
   "cell_type": "code",
   "execution_count": 635,
   "metadata": {
    "collapsed": false
   },
   "outputs": [
    {
     "data": {
      "text/html": [
       "<div>\n",
       "<style>\n",
       "    .dataframe thead tr:only-child th {\n",
       "        text-align: right;\n",
       "    }\n",
       "\n",
       "    .dataframe thead th {\n",
       "        text-align: left;\n",
       "    }\n",
       "\n",
       "    .dataframe tbody tr th {\n",
       "        vertical-align: top;\n",
       "    }\n",
       "</style>\n",
       "<table border=\"1\" class=\"dataframe\">\n",
       "  <thead>\n",
       "    <tr style=\"text-align: right;\">\n",
       "      <th></th>\n",
       "      <th>polarity_Oct</th>\n",
       "      <th>normalized_polarity_Oct</th>\n",
       "      <th>normalized_polarity_Sept</th>\n",
       "      <th>polarity_Sept</th>\n",
       "      <th>normalized_polarity_Aug</th>\n",
       "      <th>polarity_Aug</th>\n",
       "    </tr>\n",
       "    <tr>\n",
       "      <th>media</th>\n",
       "      <th></th>\n",
       "      <th></th>\n",
       "      <th></th>\n",
       "      <th></th>\n",
       "      <th></th>\n",
       "      <th></th>\n",
       "    </tr>\n",
       "  </thead>\n",
       "  <tbody>\n",
       "    <tr>\n",
       "      <th>TPM</th>\n",
       "      <td>[-0.7142857142857143, -0.30952380952380953, 0....</td>\n",
       "      <td>[-0.9787842654487224, -0.5740223606868176, 0.2...</td>\n",
       "      <td>[-0.37487579077512556, 0.7251242092248744, 0.5...</td>\n",
       "      <td>[-0.1, 1.0, 0.8571428571428572, 0.666666666666...</td>\n",
       "      <td>[0.17275415386064777, 0.022754153860647747, -0...</td>\n",
       "      <td>[0.4, 0.25, -0.20833333333333334, -0.166666666...</td>\n",
       "    </tr>\n",
       "    <tr>\n",
       "      <th>Los Angeles Times</th>\n",
       "      <td>[0.41666666666666663, 0.5, -0.1666666666666666...</td>\n",
       "      <td>[0.15216811550365855, 0.23550144883699192, -0....</td>\n",
       "      <td>[-0.17487579077512552, 0.18666267076333604, 0....</td>\n",
       "      <td>[0.1, 0.46153846153846156, 0.5608465608465608,...</td>\n",
       "      <td>[-0.07605221218709762, 0.3609894479782948, -0....</td>\n",
       "      <td>[0.15119363395225463, 0.5882352941176471, 0.10...</td>\n",
       "    </tr>\n",
       "    <tr>\n",
       "      <th>PoliticusUSA</th>\n",
       "      <td>[-0.26666666666666666, -0.1, 0.504273504273504...</td>\n",
       "      <td>[-0.5311652178296747, -0.3644985511630081, 0.2...</td>\n",
       "      <td>[-0.5748757907751255, -0.024875790775125528, 0...</td>\n",
       "      <td>[-0.3, 0.25, 0.5, 0.22916666666666666, -0.4747...</td>\n",
       "      <td>[0.487039868146362, -0.11613473502824115, -0.2...</td>\n",
       "      <td>[0.7142857142857143, 0.1111111111111111, -0.07...</td>\n",
       "    </tr>\n",
       "    <tr>\n",
       "      <th>ABC News</th>\n",
       "      <td>[0.45454545454545453, 0.5555555555555556, 0.75...</td>\n",
       "      <td>[0.19004690338244645, 0.2910570043925475, 0.48...</td>\n",
       "      <td>[-0.5665424574417921, 0.30845754255820784, 0.0...</td>\n",
       "      <td>[-0.29166666666666663, 0.5833333333333334, 0.3...</td>\n",
       "      <td>[0.2727541538606477, 0.12275415386064772, -0.5...</td>\n",
       "      <td>[0.5, 0.35, -0.3333333333333333, 0.03333333333...</td>\n",
       "    </tr>\n",
       "    <tr>\n",
       "      <th>Politico</th>\n",
       "      <td>[0.4, 0.33333333333333337, 0.2879310344827586,...</td>\n",
       "      <td>[0.13550144883699194, 0.06883478217032529, 0.0...</td>\n",
       "      <td>[-0.5248757907751256, 0.10973959384025905, 0.6...</td>\n",
       "      <td>[-0.25, 0.3846153846153846, 0.9, 0.57142857142...</td>\n",
       "      <td>[0.22355506919245552, 0.028114777642324146, -0...</td>\n",
       "      <td>[0.45080091533180777, 0.2553606237816764, -0.1...</td>\n",
       "    </tr>\n",
       "    <tr>\n",
       "      <th>NBCNews.com</th>\n",
       "      <td>[0.3055555555555556, 0.27058823529411763, 0.13...</td>\n",
       "      <td>[0.0410570043925475, 0.006089684131109552, -0....</td>\n",
       "      <td>[0.46512420922487446, 0.30845754255820784, -0....</td>\n",
       "      <td>[0.74, 0.5833333333333334, 0.10666666666666666...</td>\n",
       "      <td>[-0.26724584613935226, 0.07527516226400907, -0...</td>\n",
       "      <td>[-0.04000000000000001, 0.3025210084033613, -0....</td>\n",
       "    </tr>\n",
       "    <tr>\n",
       "      <th>Washington Post</th>\n",
       "      <td>[0.3015873015873016, 0.3802008608321377, 0.625...</td>\n",
       "      <td>[0.03708875042429355, 0.11570230966912964, 0.3...</td>\n",
       "      <td>[-0.2034472193465541, -0.12580746779375906, -0...</td>\n",
       "      <td>[0.07142857142857142, 0.14906832298136646, 0.2...</td>\n",
       "      <td>[-0.18538538102307317, -0.0017023678784826857,...</td>\n",
       "      <td>[0.041860465116279076, 0.22554347826086957, 0....</td>\n",
       "    </tr>\n",
       "  </tbody>\n",
       "</table>\n",
       "</div>"
      ],
      "text/plain": [
       "                                                        polarity_Oct  \\\n",
       "media                                                                  \n",
       "TPM                [-0.7142857142857143, -0.30952380952380953, 0....   \n",
       "Los Angeles Times  [0.41666666666666663, 0.5, -0.1666666666666666...   \n",
       "PoliticusUSA       [-0.26666666666666666, -0.1, 0.504273504273504...   \n",
       "ABC News           [0.45454545454545453, 0.5555555555555556, 0.75...   \n",
       "Politico           [0.4, 0.33333333333333337, 0.2879310344827586,...   \n",
       "NBCNews.com        [0.3055555555555556, 0.27058823529411763, 0.13...   \n",
       "Washington Post    [0.3015873015873016, 0.3802008608321377, 0.625...   \n",
       "\n",
       "                                             normalized_polarity_Oct  \\\n",
       "media                                                                  \n",
       "TPM                [-0.9787842654487224, -0.5740223606868176, 0.2...   \n",
       "Los Angeles Times  [0.15216811550365855, 0.23550144883699192, -0....   \n",
       "PoliticusUSA       [-0.5311652178296747, -0.3644985511630081, 0.2...   \n",
       "ABC News           [0.19004690338244645, 0.2910570043925475, 0.48...   \n",
       "Politico           [0.13550144883699194, 0.06883478217032529, 0.0...   \n",
       "NBCNews.com        [0.0410570043925475, 0.006089684131109552, -0....   \n",
       "Washington Post    [0.03708875042429355, 0.11570230966912964, 0.3...   \n",
       "\n",
       "                                            normalized_polarity_Sept  \\\n",
       "media                                                                  \n",
       "TPM                [-0.37487579077512556, 0.7251242092248744, 0.5...   \n",
       "Los Angeles Times  [-0.17487579077512552, 0.18666267076333604, 0....   \n",
       "PoliticusUSA       [-0.5748757907751255, -0.024875790775125528, 0...   \n",
       "ABC News           [-0.5665424574417921, 0.30845754255820784, 0.0...   \n",
       "Politico           [-0.5248757907751256, 0.10973959384025905, 0.6...   \n",
       "NBCNews.com        [0.46512420922487446, 0.30845754255820784, -0....   \n",
       "Washington Post    [-0.2034472193465541, -0.12580746779375906, -0...   \n",
       "\n",
       "                                                       polarity_Sept  \\\n",
       "media                                                                  \n",
       "TPM                [-0.1, 1.0, 0.8571428571428572, 0.666666666666...   \n",
       "Los Angeles Times  [0.1, 0.46153846153846156, 0.5608465608465608,...   \n",
       "PoliticusUSA       [-0.3, 0.25, 0.5, 0.22916666666666666, -0.4747...   \n",
       "ABC News           [-0.29166666666666663, 0.5833333333333334, 0.3...   \n",
       "Politico           [-0.25, 0.3846153846153846, 0.9, 0.57142857142...   \n",
       "NBCNews.com        [0.74, 0.5833333333333334, 0.10666666666666666...   \n",
       "Washington Post    [0.07142857142857142, 0.14906832298136646, 0.2...   \n",
       "\n",
       "                                             normalized_polarity_Aug  \\\n",
       "media                                                                  \n",
       "TPM                [0.17275415386064777, 0.022754153860647747, -0...   \n",
       "Los Angeles Times  [-0.07605221218709762, 0.3609894479782948, -0....   \n",
       "PoliticusUSA       [0.487039868146362, -0.11613473502824115, -0.2...   \n",
       "ABC News           [0.2727541538606477, 0.12275415386064772, -0.5...   \n",
       "Politico           [0.22355506919245552, 0.028114777642324146, -0...   \n",
       "NBCNews.com        [-0.26724584613935226, 0.07527516226400907, -0...   \n",
       "Washington Post    [-0.18538538102307317, -0.0017023678784826857,...   \n",
       "\n",
       "                                                        polarity_Aug  \n",
       "media                                                                 \n",
       "TPM                [0.4, 0.25, -0.20833333333333334, -0.166666666...  \n",
       "Los Angeles Times  [0.15119363395225463, 0.5882352941176471, 0.10...  \n",
       "PoliticusUSA       [0.7142857142857143, 0.1111111111111111, -0.07...  \n",
       "ABC News           [0.5, 0.35, -0.3333333333333333, 0.03333333333...  \n",
       "Politico           [0.45080091533180777, 0.2553606237816764, -0.1...  \n",
       "NBCNews.com        [-0.04000000000000001, 0.3025210084033613, -0....  \n",
       "Washington Post    [0.041860465116279076, 0.22554347826086957, 0....  "
      ]
     },
     "execution_count": 635,
     "metadata": {},
     "output_type": "execute_result"
    }
   ],
   "source": [
    "# show the media polarity\n",
    "media_intersection_polarity"
   ]
  },
  {
   "cell_type": "code",
   "execution_count": 637,
   "metadata": {
    "collapsed": false
   },
   "outputs": [],
   "source": [
    "# Find mean for each cell\n",
    "media_intersection_polarity = media_intersection_polarity.applymap(np.mean)"
   ]
  },
  {
   "cell_type": "code",
   "execution_count": 638,
   "metadata": {
    "collapsed": false
   },
   "outputs": [
    {
     "data": {
      "text/html": [
       "<div>\n",
       "<style>\n",
       "    .dataframe thead tr:only-child th {\n",
       "        text-align: right;\n",
       "    }\n",
       "\n",
       "    .dataframe thead th {\n",
       "        text-align: left;\n",
       "    }\n",
       "\n",
       "    .dataframe tbody tr th {\n",
       "        vertical-align: top;\n",
       "    }\n",
       "</style>\n",
       "<table border=\"1\" class=\"dataframe\">\n",
       "  <thead>\n",
       "    <tr style=\"text-align: right;\">\n",
       "      <th></th>\n",
       "      <th>polarity_Oct</th>\n",
       "      <th>normalized_polarity_Oct</th>\n",
       "      <th>normalized_polarity_Sept</th>\n",
       "      <th>polarity_Sept</th>\n",
       "      <th>normalized_polarity_Aug</th>\n",
       "      <th>polarity_Aug</th>\n",
       "    </tr>\n",
       "    <tr>\n",
       "      <th>media</th>\n",
       "      <th></th>\n",
       "      <th></th>\n",
       "      <th></th>\n",
       "      <th></th>\n",
       "      <th></th>\n",
       "      <th></th>\n",
       "    </tr>\n",
       "  </thead>\n",
       "  <tbody>\n",
       "    <tr>\n",
       "      <th>TPM</th>\n",
       "      <td>0.127434</td>\n",
       "      <td>-0.137065</td>\n",
       "      <td>-0.009872</td>\n",
       "      <td>0.265004</td>\n",
       "      <td>-0.215731</td>\n",
       "      <td>0.011515</td>\n",
       "    </tr>\n",
       "    <tr>\n",
       "      <th>Los Angeles Times</th>\n",
       "      <td>0.310189</td>\n",
       "      <td>0.045690</td>\n",
       "      <td>-0.016708</td>\n",
       "      <td>0.258168</td>\n",
       "      <td>0.080395</td>\n",
       "      <td>0.307641</td>\n",
       "    </tr>\n",
       "    <tr>\n",
       "      <th>PoliticusUSA</th>\n",
       "      <td>0.136290</td>\n",
       "      <td>-0.128208</td>\n",
       "      <td>-0.077470</td>\n",
       "      <td>0.197406</td>\n",
       "      <td>-0.003161</td>\n",
       "      <td>0.224085</td>\n",
       "    </tr>\n",
       "    <tr>\n",
       "      <th>ABC News</th>\n",
       "      <td>0.257565</td>\n",
       "      <td>-0.006934</td>\n",
       "      <td>0.038081</td>\n",
       "      <td>0.312957</td>\n",
       "      <td>-0.000394</td>\n",
       "      <td>0.226852</td>\n",
       "    </tr>\n",
       "    <tr>\n",
       "      <th>Politico</th>\n",
       "      <td>0.400635</td>\n",
       "      <td>0.136136</td>\n",
       "      <td>-0.055315</td>\n",
       "      <td>0.219560</td>\n",
       "      <td>-0.019178</td>\n",
       "      <td>0.208068</td>\n",
       "    </tr>\n",
       "    <tr>\n",
       "      <th>NBCNews.com</th>\n",
       "      <td>0.219658</td>\n",
       "      <td>-0.044840</td>\n",
       "      <td>0.076774</td>\n",
       "      <td>0.351650</td>\n",
       "      <td>-0.081730</td>\n",
       "      <td>0.145515</td>\n",
       "    </tr>\n",
       "    <tr>\n",
       "      <th>Washington Post</th>\n",
       "      <td>0.379463</td>\n",
       "      <td>0.114964</td>\n",
       "      <td>0.103932</td>\n",
       "      <td>0.378808</td>\n",
       "      <td>0.219542</td>\n",
       "      <td>0.446787</td>\n",
       "    </tr>\n",
       "  </tbody>\n",
       "</table>\n",
       "</div>"
      ],
      "text/plain": [
       "                   polarity_Oct  normalized_polarity_Oct  \\\n",
       "media                                                      \n",
       "TPM                    0.127434                -0.137065   \n",
       "Los Angeles Times      0.310189                 0.045690   \n",
       "PoliticusUSA           0.136290                -0.128208   \n",
       "ABC News               0.257565                -0.006934   \n",
       "Politico               0.400635                 0.136136   \n",
       "NBCNews.com            0.219658                -0.044840   \n",
       "Washington Post        0.379463                 0.114964   \n",
       "\n",
       "                   normalized_polarity_Sept  polarity_Sept  \\\n",
       "media                                                        \n",
       "TPM                               -0.009872       0.265004   \n",
       "Los Angeles Times                 -0.016708       0.258168   \n",
       "PoliticusUSA                      -0.077470       0.197406   \n",
       "ABC News                           0.038081       0.312957   \n",
       "Politico                          -0.055315       0.219560   \n",
       "NBCNews.com                        0.076774       0.351650   \n",
       "Washington Post                    0.103932       0.378808   \n",
       "\n",
       "                   normalized_polarity_Aug  polarity_Aug  \n",
       "media                                                     \n",
       "TPM                              -0.215731      0.011515  \n",
       "Los Angeles Times                 0.080395      0.307641  \n",
       "PoliticusUSA                     -0.003161      0.224085  \n",
       "ABC News                         -0.000394      0.226852  \n",
       "Politico                         -0.019178      0.208068  \n",
       "NBCNews.com                      -0.081730      0.145515  \n",
       "Washington Post                   0.219542      0.446787  "
      ]
     },
     "execution_count": 638,
     "metadata": {},
     "output_type": "execute_result"
    }
   ],
   "source": [
    "# show polarity after mean calculation\n",
    "media_intersection_polarity"
   ]
  },
  {
   "cell_type": "code",
   "execution_count": 639,
   "metadata": {
    "collapsed": false
   },
   "outputs": [],
   "source": [
    "# clean the dataframe and drop the useless columns\n",
    "media_intersection_polarity.drop(labels = ['polarity_Oct', 'polarity_Sept', 'polarity_Aug'],\n",
    "                                 axis = 1,\n",
    "                                 inplace = True)"
   ]
  },
  {
   "cell_type": "code",
   "execution_count": 640,
   "metadata": {
    "collapsed": false,
    "scrolled": false
   },
   "outputs": [
    {
     "data": {
      "image/png": "[encoded data removed]",
      "text/plain": [
       "<matplotlib.figure.Figure at 0x7fd4a60a3cf8>"
      ]
     },
     "metadata": {},
     "output_type": "display_data"
    }
   ],
   "source": [
    "# plot the polarity of popular medias based on the topic of 'trump' in August, September, October 2016\n",
    "keys = ['normalized_polarity_Aug', 'normalized_polarity_Sept', 'normalized_polarity_Oct']\n",
    "medias = media_intersection_polarity.index\n",
    "plt.rcParams['figure.figsize'] = (20, 8)\n",
    "for media in medias:\n",
    "    plt.scatter(x = np.arange(len(keys)),\n",
    "               y = media_intersection_polarity.loc[media],\n",
    "               s = 50)\n",
    "    plt.plot(np.arange(len(keys)),\n",
    "            media_intersection_polarity.loc[media])\n",
    "plt.legend(medias, loc = 'best')\n",
    "plt.xticks(np.arange(len(keys)), ['Aug', 'Sept', 'Oct'])\n",
    "plt.xlabel('Month')\n",
    "plt.ylabel('Normalized mean polarity')\n",
    "plt.title('Normalized mean polarity of news focused on Trump')\n",
    "plt.show()"
   ]
  },
  {
   "cell_type": "markdown",
   "metadata": {},
   "source": [
    "## MileStone Conclusion:\n",
    "During this milestone, we collected and preprocessed the data, tried our proposed methods on test part, got some progressive development, and obtained some inspiration from the difficulties. We firstly focused on media reaction on the topic of trump in October 2016, and extended to time domain, as proposed in milestone. Basically speaking, referring to some controversial topics, there indeed exists media porlarity, based on our three-month US news analysis before 2016 presidental election. We would like to go further till the next milestone.\n",
    "\n",
    "In the following, we show some difficulties we met during this milestone, and some expectation of milestone3."
   ]
  },
  {
   "cell_type": "markdown",
   "metadata": {},
   "source": [
    "## Discussion\n",
    "## The problems we encountered during working on milestone2\n",
    "### A. Select Topic\n",
    "We choose the top 5 keywords to select the topic without any priority. Therefore, sometimes these 5 keywords may not be related to each other. We might choose relative keywords from the most frequent keywords in the future work.\n",
    "### B. Get Original Data from Website\n",
    "When we try to get the content of the news, sometimes we will also get some irrelevant data. We need to find an efficient way to get only the data we want.\n",
    "### C. Conduct Sentimental Analysis\n",
    "Now we use sentiment analyzer module of NLTK and TextBlob to analyse the polarity of each sentence in an article. And we set positive threshold and negative threshold to classify the polarity of the sentences. By calculating the percentage of sentences with different polarities, we determine the polarity of the whole article. \n",
    "\n",
    "One of the problems is that some of the content of the news might be irrelevant to the topic (e.g., Thank you for your reading) because of the incorrect data extraction. And this irrelevant sentences might have a very high or low polarity score, which has a bad influence on our results. Our solution is that we subtract the median polarity score from the mean score to avoid the bias."
   ]
  },
  {
   "cell_type": "markdown",
   "metadata": {},
   "source": [
    "### Part5: Build up Our Classifier\n",
    "\n",
    "#### Todo:\n",
    "1. Build up our own classifier using some Machine Learning methodologies, such as Naive Bayes Classifier, to determine the polarity of the news more reasonably based on the results of NLTK and TextBlob.\n",
    "2. Backup Solution: If the performance of the classifier is not satisfactory, we will still use NLTK and TextBlob but switch from document-wise to sentence-wise. For example, 'the weather is good.' and 'The policy is good.' might have the same score but the second sentence is more important in political topics obviously. So we can assign different weights for the sentences according to the relation to the topic (e.g. sentences with keywords)."
   ]
  },
  {
   "cell_type": "code",
   "execution_count": 647,
   "metadata": {
    "collapsed": true
   },
   "outputs": [],
   "source": [
    "# On the way"
   ]
  },
  {
   "cell_type": "markdown",
   "metadata": {},
   "source": [
    "### Part6: Enlarge the Dataset\n",
    "\n",
    "#### Todo:\n",
    "1. Process more data from the dataset to analyze the polarity of medias as the requirement of more medias, more topcs and larger time range.\n",
    "2. In this part, we will apply Spark to meet our demands."
   ]
  },
  {
   "cell_type": "code",
   "execution_count": 648,
   "metadata": {
    "collapsed": true
   },
   "outputs": [],
   "source": [
    "# On the way"
   ]
  },
  {
   "cell_type": "markdown",
   "metadata": {},
   "source": [
    "### Part7: Explore in Other Topics\n",
    "\n",
    "#### Todo:\n",
    "1. According to the keywords, select the topics with strong relation.\n",
    "2. Follow the same steps in above parts to analyze the polarity of the medias in different but relative topics. For example, we will find out how the polarity scores of the medias change over time in a set of topics, such as election, immigration and Trump. We can compare the trend in different topics with strong and week relation."
   ]
  },
  {
   "cell_type": "code",
   "execution_count": 649,
   "metadata": {
    "collapsed": true
   },
   "outputs": [],
   "source": [
    "# On the way"
   ]
  },
  {
   "cell_type": "markdown",
   "metadata": {},
   "source": [
    "### Part8: Conclusion\n",
    "\n",
    "By summarizing the polarity of the medias in different topics over time, we can find out the potential polarity of the medias. For example, if a media have a positive view on some social topics like education, economy and policy, this media might have the same polarity in relative topics like election."
   ]
  },
  {
   "cell_type": "code",
   "execution_count": 650,
   "metadata": {
    "collapsed": true
   },
   "outputs": [],
   "source": [
    "# On the way"
   ]
  }
 ],
 "metadata": {
  "kernelspec": {
   "display_name": "Python 3",
   "language": "python",
   "name": "python3"
  },
  "language_info": {
   "codemirror_mode": {
    "name": "ipython",
    "version": 3
   },
   "file_extension": ".py",
   "mimetype": "text/x-python",
   "name": "python",
   "nbconvert_exporter": "python",
   "pygments_lexer": "ipython3",
   "version": "3.6.0"
  }
 },
 "nbformat": 4,
 "nbformat_minor": 2
}
